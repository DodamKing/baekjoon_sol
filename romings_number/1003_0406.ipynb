{
 "cells": [
  {
   "cell_type": "markdown",
   "id": "70576d9b",
   "metadata": {},
   "source": [
    "피보나치 함수 실버3"
   ]
  },
  {
   "cell_type": "code",
   "execution_count": 7,
   "id": "3e5dc5a4",
   "metadata": {},
   "outputs": [
    {
     "name": "stdout",
     "output_type": "stream",
     "text": [
      "2\n",
      "6\n",
      "5 8\n",
      "22\n",
      "10946 17711\n"
     ]
    }
   ],
   "source": [
    "t = int(input())\n",
    "dp = [(0, 0)] * 41\n",
    "dp[0] = (1, 0)\n",
    "dp[1] = (0, 1)\n",
    "\n",
    "for _ in range(t):\n",
    "    n = int(input())\n",
    "    for i in range(2, n+1):\n",
    "        dp[i] = (dp[i-1][0] + dp[i-2][0], dp[i-1][1] + dp[i-2][1])\n",
    "    \n",
    "    print(*dp[n])"
   ]
  }
 ],
 "metadata": {
  "kernelspec": {
   "display_name": "Python 3 (ipykernel)",
   "language": "python",
   "name": "python3"
  },
  "language_info": {
   "codemirror_mode": {
    "name": "ipython",
    "version": 3
   },
   "file_extension": ".py",
   "mimetype": "text/x-python",
   "name": "python",
   "nbconvert_exporter": "python",
   "pygments_lexer": "ipython3",
   "version": "3.9.7"
  }
 },
 "nbformat": 4,
 "nbformat_minor": 5
}
