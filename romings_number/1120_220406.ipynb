{
 "cells": [
  {
   "cell_type": "markdown",
   "id": "34d75cbe",
   "metadata": {},
   "source": [
    "문자열 실버 4"
   ]
  },
  {
   "cell_type": "code",
   "execution_count": 2,
   "id": "40ccd1f5",
   "metadata": {},
   "outputs": [
    {
     "name": "stdout",
     "output_type": "stream",
     "text": [
      "adaabc aababbc\n",
      "2\n"
     ]
    }
   ],
   "source": [
    "a, b = input().split()\n",
    "res = []\n",
    "\n",
    "for i in range(len(b) - len(a) + 1):\n",
    "    cnt = 0\n",
    "    for j in range(len(a)):\n",
    "        if a[j] != b[i + j]:\n",
    "            cnt += 1\n",
    "    res.append(cnt)\n",
    "\n",
    "print(min(res))"
   ]
  }
 ],
 "metadata": {
  "kernelspec": {
   "display_name": "Python 3 (ipykernel)",
   "language": "python",
   "name": "python3"
  },
  "language_info": {
   "codemirror_mode": {
    "name": "ipython",
    "version": 3
   },
   "file_extension": ".py",
   "mimetype": "text/x-python",
   "name": "python",
   "nbconvert_exporter": "python",
   "pygments_lexer": "ipython3",
   "version": "3.9.7"
  }
 },
 "nbformat": 4,
 "nbformat_minor": 5
}
