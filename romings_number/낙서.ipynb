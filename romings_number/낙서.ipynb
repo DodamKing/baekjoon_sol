{
 "cells": [
  {
   "cell_type": "code",
   "execution_count": 1,
   "id": "e4d349e0",
   "metadata": {},
   "outputs": [
    {
     "data": {
      "text/plain": [
       "'neo'"
      ]
     },
     "execution_count": 1,
     "metadata": {},
     "output_type": "execute_result"
    }
   ],
   "source": [
    "str = \"neo prodo\"\n",
    "str.split(\" \")[0]"
   ]
  },
  {
   "cell_type": "code",
   "execution_count": 13,
   "id": "d8ad073a",
   "metadata": {},
   "outputs": [
    {
     "data": {
      "text/plain": [
       "[['df'],\n",
       " ['df'],\n",
       " ['df'],\n",
       " ['df'],\n",
       " ['df'],\n",
       " ['df'],\n",
       " ['df'],\n",
       " ['df'],\n",
       " ['df'],\n",
       " ['df']]"
      ]
     },
     "execution_count": 13,
     "metadata": {},
     "output_type": "execute_result"
    }
   ],
   "source": [
    "list = [[]] * 10\n",
    "list[2].append('df')\n",
    "list"
   ]
  }
 ],
 "metadata": {
  "kernelspec": {
   "display_name": "Python 3 (ipykernel)",
   "language": "python",
   "name": "python3"
  },
  "language_info": {
   "codemirror_mode": {
    "name": "ipython",
    "version": 3
   },
   "file_extension": ".py",
   "mimetype": "text/x-python",
   "name": "python",
   "nbconvert_exporter": "python",
   "pygments_lexer": "ipython3",
   "version": "3.9.7"
  }
 },
 "nbformat": 4,
 "nbformat_minor": 5
}
