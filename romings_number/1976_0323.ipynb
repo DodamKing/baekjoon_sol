{
 "cells": [
  {
   "cell_type": "markdown",
   "id": "23ed4a90",
   "metadata": {},
   "source": [
    " 여행가자 골드 4\n",
    "\n",
    "그래프 알고리즘\n",
    "union-find(유니온 파인드) 알고리즘?"
   ]
  },
  {
   "cell_type": "code",
   "execution_count": 2,
   "id": "6eabadb3",
   "metadata": {},
   "outputs": [
    {
     "name": "stdout",
     "output_type": "stream",
     "text": [
      "3\n",
      "3\n",
      "0 1 0\n",
      "1 0 1\n",
      "0 1 0\n",
      "1 2 3\n"
     ]
    }
   ],
   "source": [
    "n = int(input())\n",
    "m = int(input())\n",
    "\n",
    "load = [[0 for _ in range(n)]]\n",
    "for _ in range(n):\n",
    "    load.append(list(map(int, input().split())))\n",
    "    \n",
    "plan = list(map(int, (input().split())))\n",
    "\n",
    "for item in plan:\n",
    "    "
   ]
  }
 ],
 "metadata": {
  "kernelspec": {
   "display_name": "Python 3 (ipykernel)",
   "language": "python",
   "name": "python3"
  },
  "language_info": {
   "codemirror_mode": {
    "name": "ipython",
    "version": 3
   },
   "file_extension": ".py",
   "mimetype": "text/x-python",
   "name": "python",
   "nbconvert_exporter": "python",
   "pygments_lexer": "ipython3",
   "version": "3.9.7"
  }
 },
 "nbformat": 4,
 "nbformat_minor": 5
}
