{
 "cells": [
  {
   "cell_type": "markdown",
   "id": "2f75810e",
   "metadata": {},
   "source": [
    "01타일 실버3"
   ]
  },
  {
   "cell_type": "code",
   "execution_count": 4,
   "id": "2572ccce",
   "metadata": {},
   "outputs": [
    {
     "name": "stdout",
     "output_type": "stream",
     "text": [
      "3\n",
      "3\n"
     ]
    }
   ],
   "source": [
    "n = int(input())\n",
    "dp = [0] * n\n",
    "\n",
    "def sol(n):\n",
    "    if n == 1:\n",
    "        return 1\n",
    "    elif n == 2:\n",
    "        return 2\n",
    "    else:\n",
    "        return sol(n-2) + sol(n-1)\n",
    "    \n",
    "print(sol(n) % 15746)\n",
    "\n",
    "# RecursionError\n",
    "# 재귀함수의 깊이 때문에 에러남 \n",
    "# 백준에서는 재귀 깊이를 1000으로 지정 \n",
    "# 문제의 n의 범위가 1000000까지\n",
    "# 재귀의 깊이는 n-1 이므로 에러가 아니라도 시간 초과 일 듯"
   ]
  },
  {
   "cell_type": "code",
   "execution_count": 18,
   "id": "805f791a",
   "metadata": {},
   "outputs": [
    {
     "name": "stdout",
     "output_type": "stream",
     "text": [
      "4\n",
      "5\n"
     ]
    }
   ],
   "source": [
    "# 왜 때문에 메모리 초과\n",
    "\n",
    "n = int(input())\n",
    "dp = [0] * (n + 1)\n",
    "\n",
    "if n == 1:\n",
    "    print(1)\n",
    "elif n == 2:\n",
    "    print(2)\n",
    "\n",
    "else:\n",
    "    dp[1] = 1\n",
    "    dp[2] = 2\n",
    "\n",
    "    for i in range(3, n + 1):\n",
    "        dp[i] = (dp[i-2] + dp[i-1]) % 15746 # 나누기 안해서 메모리 초과 인듯 어차피 안 나눠서 답도 틀림\n",
    "    \n",
    "    print(dp[n])"
   ]
  },
  {
   "cell_type": "code",
   "execution_count": null,
   "id": "92625f06",
   "metadata": {},
   "outputs": [],
   "source": [
    "n = int(input())\n",
    "dp = [0] * 1000001\n",
    "dp[1] = 1\n",
    "dp[2] = 2\n",
    "\n",
    "for i in range(3, n + 1):\n",
    "    dp[i] = (dp[i-2] + dp[i-1]) % 15746\n",
    "\n",
    "print(dp[n])"
   ]
  }
 ],
 "metadata": {
  "kernelspec": {
   "display_name": "Python 3 (ipykernel)",
   "language": "python",
   "name": "python3"
  },
  "language_info": {
   "codemirror_mode": {
    "name": "ipython",
    "version": 3
   },
   "file_extension": ".py",
   "mimetype": "text/x-python",
   "name": "python",
   "nbconvert_exporter": "python",
   "pygments_lexer": "ipython3",
   "version": "3.9.7"
  }
 },
 "nbformat": 4,
 "nbformat_minor": 5
}
