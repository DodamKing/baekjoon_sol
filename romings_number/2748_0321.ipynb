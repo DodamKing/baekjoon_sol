{
 "cells": [
  {
   "cell_type": "markdown",
   "id": "d086484f",
   "metadata": {},
   "source": [
    "피보나치 수 2 브론즈 1"
   ]
  },
  {
   "cell_type": "code",
   "execution_count": 9,
   "id": "dea97c6e",
   "metadata": {},
   "outputs": [],
   "source": [
    "def sol(n):\n",
    "    if n == 0:\n",
    "        return 0\n",
    "    elif n == 1:\n",
    "        return 1\n",
    "    else:\n",
    "        return sol(n-1) + sol(n-2)"
   ]
  },
  {
   "cell_type": "code",
   "execution_count": 13,
   "id": "3610b19c",
   "metadata": {},
   "outputs": [
    {
     "name": "stdout",
     "output_type": "stream",
     "text": [
      "10\n"
     ]
    },
    {
     "data": {
      "text/plain": [
       "55"
      ]
     },
     "execution_count": 13,
     "metadata": {},
     "output_type": "execute_result"
    }
   ],
   "source": [
    "n = int(input())\n",
    "sol(n)"
   ]
  },
  {
   "cell_type": "code",
   "execution_count": 19,
   "id": "48bc300e",
   "metadata": {},
   "outputs": [
    {
     "name": "stdout",
     "output_type": "stream",
     "text": [
      "17\n"
     ]
    },
    {
     "data": {
      "text/plain": [
       "1597"
      ]
     },
     "execution_count": 19,
     "metadata": {},
     "output_type": "execute_result"
    }
   ],
   "source": [
    "n = int(input())\n",
    "arr = [0] * (n + 1) \n",
    "arr[1] = 1\n",
    "\n",
    "for i in range(2, n+1):\n",
    "    arr[i] = arr[i-1] + arr[i-2]\n",
    "\n",
    "arr[-1]    "
   ]
  }
 ],
 "metadata": {
  "kernelspec": {
   "display_name": "Python 3 (ipykernel)",
   "language": "python",
   "name": "python3"
  },
  "language_info": {
   "codemirror_mode": {
    "name": "ipython",
    "version": 3
   },
   "file_extension": ".py",
   "mimetype": "text/x-python",
   "name": "python",
   "nbconvert_exporter": "python",
   "pygments_lexer": "ipython3",
   "version": "3.9.7"
  }
 },
 "nbformat": 4,
 "nbformat_minor": 5
}
