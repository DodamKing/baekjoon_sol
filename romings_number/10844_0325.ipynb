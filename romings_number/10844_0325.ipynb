{
 "cells": [
  {
   "cell_type": "markdown",
   "id": "26f2a241",
   "metadata": {},
   "source": [
    "쉬운 계단 수 실버 1"
   ]
  },
  {
   "cell_type": "code",
   "execution_count": 15,
   "id": "1d1e1366",
   "metadata": {},
   "outputs": [
    {
     "name": "stdout",
     "output_type": "stream",
     "text": [
      "4\n",
      "65\n"
     ]
    }
   ],
   "source": [
    "def sol(n):\n",
    "    if n == 1:\n",
    "        return 9\n",
    "    else:\n",
    "        return sol(n-1) * 2 -1\n",
    "\n",
    "n = int(input())    \n",
    "print(sol(n) % 1000000000)"
   ]
  },
  {
   "cell_type": "code",
   "execution_count": 16,
   "id": "b680b975",
   "metadata": {},
   "outputs": [
    {
     "name": "stdout",
     "output_type": "stream",
     "text": [
      "4\n",
      "61\n"
     ]
    }
   ],
   "source": [
    "n = int(input())\n",
    "dp = [[0 for _ in range(10)] for _ in range(101)]\n",
    "\n",
    "for i in range(1, 10):\n",
    "    dp[1][i] = 1\n",
    "    \n",
    "for i in range(2, n+1):\n",
    "    for j in range(10):\n",
    "        if j == 0:\n",
    "            dp[i][j] = dp[i-1][1]\n",
    "        elif j == 9:\n",
    "            dp[i][j] = dp[i-1][8]\n",
    "        else:\n",
    "            dp[i][j] = dp[i-1][j-1] + dp[i-1][j+1]\n",
    "            \n",
    "print(sum(dp[n]) % 1000000000)"
   ]
  }
 ],
 "metadata": {
  "kernelspec": {
   "display_name": "Python 3 (ipykernel)",
   "language": "python",
   "name": "python3"
  },
  "language_info": {
   "codemirror_mode": {
    "name": "ipython",
    "version": 3
   },
   "file_extension": ".py",
   "mimetype": "text/x-python",
   "name": "python",
   "nbconvert_exporter": "python",
   "pygments_lexer": "ipython3",
   "version": "3.9.7"
  }
 },
 "nbformat": 4,
 "nbformat_minor": 5
}
