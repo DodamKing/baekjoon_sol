{
 "cells": [
  {
   "cell_type": "markdown",
   "id": "a81c57cc",
   "metadata": {},
   "source": [
    "구간 합 구하기 4 실버3\n",
    "\n",
    "중복 제거, 다이나믹 프로그램\n",
    "\n",
    "sys.stdin.readline().rstrip()"
   ]
  },
  {
   "cell_type": "code",
   "execution_count": 7,
   "id": "86c5701a",
   "metadata": {},
   "outputs": [
    {
     "name": "stdout",
     "output_type": "stream",
     "text": [
      "5 3\n",
      "5 4 3 2 1\n",
      "1 3\n",
      "12\n",
      "2 4\n",
      "9\n",
      "5 5\n",
      "1\n"
     ]
    }
   ],
   "source": [
    "n, m = map(int, input().split())\n",
    "numbers = list(map(int, input().split()))\n",
    "\n",
    "for _ in range(m):\n",
    "    i, j = map(int, input().split())\n",
    "    \n",
    "    print(sum(numbers[i-1 : j]))"
   ]
  },
  {
   "cell_type": "code",
   "execution_count": 14,
   "id": "a8fa4c6b",
   "metadata": {},
   "outputs": [
    {
     "name": "stdout",
     "output_type": "stream",
     "text": [
      "5 3\n",
      "5 4 3 2 1\n",
      "1 3\n",
      "12\n",
      "2 4\n",
      "9\n",
      "5 5\n",
      "1\n"
     ]
    }
   ],
   "source": [
    "n, m = map(int, input().split())\n",
    "numbers = list(map(int, input().split()))\n",
    "sums = [0]\n",
    "\n",
    "for i in range(n):\n",
    "#     sums.append(sum(numbers[:i+1])) 요거 시간 초과\n",
    "    sums.append(numbers[i] + sums[i])\n",
    "    \n",
    "for _ in range(m):\n",
    "    i, j = map(int, input().split())\n",
    "    print(sums[j] - sums[i-1])"
   ]
  }
 ],
 "metadata": {
  "kernelspec": {
   "display_name": "Python 3 (ipykernel)",
   "language": "python",
   "name": "python3"
  },
  "language_info": {
   "codemirror_mode": {
    "name": "ipython",
    "version": 3
   },
   "file_extension": ".py",
   "mimetype": "text/x-python",
   "name": "python",
   "nbconvert_exporter": "python",
   "pygments_lexer": "ipython3",
   "version": "3.9.7"
  }
 },
 "nbformat": 4,
 "nbformat_minor": 5
}
