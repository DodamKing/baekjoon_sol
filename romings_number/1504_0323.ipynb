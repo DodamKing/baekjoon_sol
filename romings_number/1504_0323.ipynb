{
 "cells": [
  {
   "cell_type": "markdown",
   "id": "b6a7a912",
   "metadata": {},
   "source": [
    "특정한 최단 경로 골드 4\n",
    "\n",
    "dijkstra(다익스트라 알고리즘) O(ElogV) -> 제일 빠름\n",
    "Bellman Ford O(EV) -> 음수가 있을 때\n",
    "Floyd Warshall O(V^3) -> 전체를 다 구해야 할 때\n",
    "\n",
    "아직 건드릴 때가 아닌 듯 ㅠ"
   ]
  },
  {
   "cell_type": "code",
   "execution_count": null,
   "id": "672f37e2",
   "metadata": {},
   "outputs": [],
   "source": []
  }
 ],
 "metadata": {
  "kernelspec": {
   "display_name": "Python 3 (ipykernel)",
   "language": "python",
   "name": "python3"
  },
  "language_info": {
   "codemirror_mode": {
    "name": "ipython",
    "version": 3
   },
   "file_extension": ".py",
   "mimetype": "text/x-python",
   "name": "python",
   "nbconvert_exporter": "python",
   "pygments_lexer": "ipython3",
   "version": "3.9.7"
  }
 },
 "nbformat": 4,
 "nbformat_minor": 5
}
