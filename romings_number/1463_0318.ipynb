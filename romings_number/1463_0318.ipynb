{
 "cells": [
  {
   "cell_type": "markdown",
   "id": "59beb20e",
   "metadata": {},
   "source": [
    "1로 만들기 실버3\n",
    "\n",
    "피보나치 수열 2748(피보나치수 2) 참고"
   ]
  },
  {
   "cell_type": "code",
   "execution_count": 17,
   "id": "98c29c82",
   "metadata": {},
   "outputs": [
    {
     "name": "stdout",
     "output_type": "stream",
     "text": [
      "2\n"
     ]
    },
    {
     "data": {
      "text/plain": [
       "1"
      ]
     },
     "execution_count": 17,
     "metadata": {},
     "output_type": "execute_result"
    }
   ],
   "source": [
    "n = int(input())\n",
    "cnt = 0\n",
    "\n",
    "while n > 2:\n",
    "    if n % 3 == 0:\n",
    "        n = n / 3\n",
    "        cnt += 1\n",
    "    else:\n",
    "        n -= 1\n",
    "        cnt += 1\n",
    "        \n",
    "if n == 2:\n",
    "    cnt += 1\n",
    "    \n",
    "cnt"
   ]
  },
  {
   "cell_type": "code",
   "execution_count": 21,
   "id": "9d344936",
   "metadata": {},
   "outputs": [
    {
     "name": "stdout",
     "output_type": "stream",
     "text": [
      "10\n"
     ]
    },
    {
     "data": {
      "text/plain": [
       "3"
      ]
     },
     "execution_count": 21,
     "metadata": {},
     "output_type": "execute_result"
    }
   ],
   "source": [
    "// 로밍맨\n",
    "import math\n",
    "\n",
    "n = int(input())\n",
    "arr = [0, 0, 1, 1, 2]\n",
    "\n",
    "for i in range(5, n+1):\n",
    "    one, two, three = math.inf, math.inf, arr[i-1]\n",
    "    if i % 3 == 0:\n",
    "        one = arr[i//3]\n",
    "    if i % 2 == 0:\n",
    "        two = arr[i//2]\n",
    "    arr.append(1 + min(one, two, three))\n",
    "    \n",
    "print(arr[n])\n",
    "    "
   ]
  },
  {
   "cell_type": "code",
   "execution_count": null,
   "id": "0f3ec2da",
   "metadata": {},
   "outputs": [],
   "source": [
    "n = int(input())\n",
    "arr = [0] * (n + 1)\n",
    "\n",
    "for i in range(2, n+1):\n",
    "    arr[i] = arr[i-1] + 1\n",
    "    if i % 3 == 0:\n",
    "        arr[i] = min(arr[i], arr[i//3] + 1)\n",
    "    if i % 2 == 0:\n",
    "        arr[i] = min(arr[i], arr[i//2] + 1)\n",
    "    \n",
    "print(arr[n])"
   ]
  }
 ],
 "metadata": {
  "kernelspec": {
   "display_name": "Python 3 (ipykernel)",
   "language": "python",
   "name": "python3"
  },
  "language_info": {
   "codemirror_mode": {
    "name": "ipython",
    "version": 3
   },
   "file_extension": ".py",
   "mimetype": "text/x-python",
   "name": "python",
   "nbconvert_exporter": "python",
   "pygments_lexer": "ipython3",
   "version": "3.9.7"
  }
 },
 "nbformat": 4,
 "nbformat_minor": 5
}
