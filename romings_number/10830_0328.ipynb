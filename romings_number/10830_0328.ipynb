{
 "cells": [
  {
   "cell_type": "markdown",
   "id": "8d85f750",
   "metadata": {},
   "source": [
    "행렬 제곱 골드 4"
   ]
  },
  {
   "cell_type": "code",
   "execution_count": 79,
   "id": "90445828",
   "metadata": {},
   "outputs": [
    {
     "name": "stdout",
     "output_type": "stream",
     "text": [
      "3 3\n",
      "1 2 3\n",
      "4 5 6\n",
      "7 8 9\n",
      "468 576 684 \n",
      "62 305 548 \n",
      "656 34 412 \n"
     ]
    }
   ],
   "source": [
    "import numpy as np\n",
    "\n",
    "n, b = map(int, input().split())\n",
    "arr = np.empty((0, n), int)\n",
    "\n",
    "for _ in range(n):\n",
    "#     arr_ = (list(map(int, (input().split()))))\n",
    "    arr_ = [int(x) for x in input().split()]\n",
    "    arr = np.append(arr, np.array([arr_]), axis=0)\n",
    "     \n",
    "# b = bin(b)[2:]\n",
    "x = int(bin(b)[2]) #0bxxxxxx\n",
    "y = b - 2 ** x\n",
    "mat = arr\n",
    "\n",
    "for _ in range(x):\n",
    "    mat = mat.dot(mat)\n",
    "    \n",
    "for _ in range(y):\n",
    "    mat = mat.dot(arr)\n",
    "\n",
    "for item in mat:\n",
    "#     print(item % 1000)\n",
    "    for i in item:\n",
    "        print(i % 1000, end=' ')\n",
    "    print()"
   ]
  },
  {
   "cell_type": "code",
   "execution_count": 88,
   "id": "4bf40bcf",
   "metadata": {},
   "outputs": [
    {
     "name": "stdout",
     "output_type": "stream",
     "text": [
      "5 10\n",
      "1 0 0 0 1\n",
      "1 0 0 0 1\n",
      "1 0 0 0 1\n",
      "1 0 0 0 1\n",
      "1 0 0 0 1\n",
      "512 0 0 0 512 \n",
      "512 0 0 0 512 \n",
      "512 0 0 0 512 \n",
      "512 0 0 0 512 \n",
      "512 0 0 0 512 \n"
     ]
    }
   ],
   "source": [
    "# for i in range(n):\n",
    "#     for j in range(n):\n",
    "#         if i == j:\n",
    "#             res[i][j] = 1\n",
    "\n",
    "def mat_mul(a, b, n):\n",
    "    res = [[0] * n for _ in range(n)]\n",
    "    for i in range(n):\n",
    "        for j in range(n):\n",
    "            temp = 0\n",
    "            for k in range(n):\n",
    "                temp += a[i][k] * b[k][j]\n",
    "            res[i][j] = temp\n",
    "    return res\n",
    "\n",
    "            \n",
    "n, b = map(int, input().split())\n",
    "arr = [[int(i) for i in input().split()] for _ in range(n)]\n",
    "\n",
    "x = len(bin(b)[2:])-1 #0bxxxxxx\n",
    "y = b - 2 ** x\n",
    "mat = arr\n",
    "\n",
    "for _ in range(x):\n",
    "    mat = mat_mul(mat, mat, n)\n",
    "    \n",
    "for _ in range(y):\n",
    "    mat = mat_mul(mat, arr, n)\n",
    "\n",
    "for item in mat:\n",
    "    for i in item:\n",
    "        print(i % 1000, end=' ')\n",
    "    print()"
   ]
  },
  {
   "cell_type": "code",
   "execution_count": 85,
   "id": "55f0dc58",
   "metadata": {},
   "outputs": [
    {
     "name": "stdout",
     "output_type": "stream",
     "text": [
      "[[ 7 10]\n",
      " [15 22]]\n",
      "[[199 290]\n",
      " [435 634]]\n",
      "[[1069 1558]\n",
      " [2337 3406]]\n"
     ]
    }
   ],
   "source": [
    "z = [[1, 2], [3, 4]]\n",
    "zm = np.array(z)\n",
    "\n",
    "zm = zm.dot(zm)\n",
    "print(zm)\n",
    "zm = zm.dot(zm)\n",
    "print(zm)\n",
    "zm = zm.dot(z)\n",
    "print(zm)"
   ]
  }
 ],
 "metadata": {
  "kernelspec": {
   "display_name": "Python 3",
   "language": "python",
   "name": "python3"
  },
  "language_info": {
   "codemirror_mode": {
    "name": "ipython",
    "version": 3
   },
   "file_extension": ".py",
   "mimetype": "text/x-python",
   "name": "python",
   "nbconvert_exporter": "python",
   "pygments_lexer": "ipython3",
   "version": "3.8.8"
  }
 },
 "nbformat": 4,
 "nbformat_minor": 5
}
