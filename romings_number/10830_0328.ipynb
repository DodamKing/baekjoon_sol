{
 "cells": [
  {
   "cell_type": "markdown",
   "id": "8d85f750",
   "metadata": {},
   "source": [
    "행렬 제곱 골드 4"
   ]
  },
  {
   "cell_type": "code",
   "execution_count": 63,
   "id": "2d0bed50",
   "metadata": {},
   "outputs": [
    {
     "name": "stdout",
     "output_type": "stream",
     "text": [
      "2 5\n",
      "1 2\n",
      "3 4\n"
     ]
    },
    {
     "data": {
      "text/plain": [
       "array([[         1,          0],\n",
       "       [-501334399,          0]])"
      ]
     },
     "execution_count": 63,
     "metadata": {},
     "output_type": "execute_result"
    }
   ],
   "source": [
    "import numpy as np\n",
    "\n",
    "n, b = map(int, input().split())\n",
    "arr = np.empty((0, n), int)\n",
    "\n",
    "for _ in range(n):\n",
    "    arr_ = (list(map(int, (input().split()))))\n",
    "    arr = np.append(arr, np.array([arr_]), axis=0)\n",
    "    \n"
   ]
  },
  {
   "cell_type": "code",
   "execution_count": 69,
   "id": "f780720c",
   "metadata": {},
   "outputs": [],
   "source": [
    "arr1 = np.array([[1, 2], [3, 4]], int)"
   ]
  },
  {
   "cell_type": "code",
   "execution_count": 73,
   "id": "c82a1611",
   "metadata": {},
   "outputs": [],
   "source": [
    "arr2 = arr1 @ arr1"
   ]
  },
  {
   "cell_type": "code",
   "execution_count": 75,
   "id": "97aad3c5",
   "metadata": {},
   "outputs": [],
   "source": [
    "arr3 = arr2 @ arr2"
   ]
  },
  {
   "cell_type": "code",
   "execution_count": 76,
   "id": "4bc3e8d4",
   "metadata": {},
   "outputs": [
    {
     "data": {
      "text/plain": [
       "array([[199, 290],\n",
       "       [435, 634]])"
      ]
     },
     "execution_count": 76,
     "metadata": {},
     "output_type": "execute_result"
    }
   ],
   "source": [
    "arr3"
   ]
  }
 ],
 "metadata": {
  "kernelspec": {
   "display_name": "Python 3 (ipykernel)",
   "language": "python",
   "name": "python3"
  },
  "language_info": {
   "codemirror_mode": {
    "name": "ipython",
    "version": 3
   },
   "file_extension": ".py",
   "mimetype": "text/x-python",
   "name": "python",
   "nbconvert_exporter": "python",
   "pygments_lexer": "ipython3",
   "version": "3.9.7"
  }
 },
 "nbformat": 4,
 "nbformat_minor": 5
}
