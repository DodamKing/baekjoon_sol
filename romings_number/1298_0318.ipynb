{
 "cells": [
  {
   "cell_type": "markdown",
   "id": "f12d3e8f",
   "metadata": {},
   "source": [
    "노트북의 주인을 찾아서(플레5)\n",
    "최대 유량 문제\n",
    "에드먼드 카퍼 알고리즘로 대부분 풀림\n",
    "\n",
    "ford-fullkerson도 보자"
   ]
  },
  {
   "cell_type": "code",
   "execution_count": 2,
   "id": "a0bbc5ca",
   "metadata": {},
   "outputs": [
    {
     "name": "stdout",
     "output_type": "stream",
     "text": [
      "2 3\n"
     ]
    }
   ],
   "source": [
    "source = 0\n",
    "sink = 201\n",
    "vmax = 202\n",
    "hund = 100\n",
    "n, m = map(int, input().split())\n",
    "graph = [[0] * vmax for _ in range(vmax)]\n",
    "\n",
    "for _ in range(m):\n",
    "    a, b = map(int, input.split())\n",
    "    graph[a][b+hund] += 1"
   ]
  },
  {
   "cell_type": "code",
   "execution_count": 3,
   "id": "70f827a5",
   "metadata": {},
   "outputs": [
    {
     "data": {
      "text/plain": [
       "2"
      ]
     },
     "execution_count": 3,
     "metadata": {},
     "output_type": "execute_result"
    }
   ],
   "source": [
    "n"
   ]
  },
  {
   "cell_type": "code",
   "execution_count": null,
   "id": "fc6664a3",
   "metadata": {},
   "outputs": [],
   "source": []
  }
 ],
 "metadata": {
  "kernelspec": {
   "display_name": "Python 3 (ipykernel)",
   "language": "python",
   "name": "python3"
  },
  "language_info": {
   "codemirror_mode": {
    "name": "ipython",
    "version": 3
   },
   "file_extension": ".py",
   "mimetype": "text/x-python",
   "name": "python",
   "nbconvert_exporter": "python",
   "pygments_lexer": "ipython3",
   "version": "3.9.7"
  }
 },
 "nbformat": 4,
 "nbformat_minor": 5
}
