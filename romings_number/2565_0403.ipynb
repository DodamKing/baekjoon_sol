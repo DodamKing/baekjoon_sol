{
 "cells": [
  {
   "cell_type": "markdown",
   "id": "4f701d55",
   "metadata": {},
   "source": [
    "전깃줄 골드 5"
   ]
  },
  {
   "cell_type": "code",
   "execution_count": 4,
   "id": "c0c61602",
   "metadata": {},
   "outputs": [
    {
     "name": "stdout",
     "output_type": "stream",
     "text": [
      "8\n",
      "1 8\n",
      "3 9\n",
      "2 2\n",
      "4 1\n",
      "6 4\n",
      "10 10\n",
      "9 7\n",
      "7 6\n"
     ]
    },
    {
     "data": {
      "text/plain": [
       "[1, 1, 2, 1, 2, 3, 4, 5]"
      ]
     },
     "execution_count": 4,
     "metadata": {},
     "output_type": "execute_result"
    }
   ],
   "source": [
    "n = int(input())\n",
    "dp = [1] * n\n",
    "arr = [0] * n\n",
    "\n",
    "for i in range(n):\n",
    "    arr[i] = list(map(int, input().split()))\n",
    "    \n",
    "arr.sort(key = lambda k : k[0])\n",
    "\n",
    "for i in range(n):\n",
    "    for j in range(i):\n",
    "        if arr[j][1] < arr[i][1]:\n",
    "            dp[i] = max(dp[i], dp[j] + 1)\n",
    "print(n - max(dp))"
   ]
  },
  {
   "cell_type": "markdown",
   "id": "2cf4e13f",
   "metadata": {},
   "source": [
    "14002 가장 긴 증가하는 부분 수열 4 골드4"
   ]
  },
  {
   "cell_type": "code",
   "execution_count": 16,
   "id": "f8482e26",
   "metadata": {},
   "outputs": [
    {
     "name": "stdout",
     "output_type": "stream",
     "text": [
      "6\n",
      "10 20 10 30 20 50\n"
     ]
    }
   ],
   "source": [
    "n = int(input())\n",
    "a = [int(x) for x in input().split()]\n",
    "dp = [1] * n\n",
    "\n",
    "for i in range(n):\n",
    "    res = []\n",
    "    res.append(a[i])\n",
    "    for j in range(i, n):\n",
    "        if res[-1] < a[j]:\n",
    "            res.append(a[j])\n",
    "        dp[i] = res\n",
    "            "
   ]
  },
  {
   "cell_type": "code",
   "execution_count": 30,
   "id": "a449e101",
   "metadata": {},
   "outputs": [
    {
     "name": "stdout",
     "output_type": "stream",
     "text": [
      "4\n",
      "10 20 30 50\n"
     ]
    }
   ],
   "source": [
    "cnt = []\n",
    "rst = []\n",
    "for item in dp:\n",
    "    cnt.append(len(item))\n",
    "    \n",
    "print(max(cnt))\n",
    "\n",
    "for i in range(len(cnt)):\n",
    "    if cnt[i] == max(cnt):\n",
    "        print(*dp[i])\n",
    "        "
   ]
  },
  {
   "cell_type": "code",
   "execution_count": 17,
   "id": "8d2b917a",
   "metadata": {},
   "outputs": [
    {
     "data": {
      "text/plain": [
       "[[10, 20, 30, 50], [20, 30, 50], [10, 30, 50], [30, 50], [20, 50], [50]]"
      ]
     },
     "execution_count": 17,
     "metadata": {},
     "output_type": "execute_result"
    }
   ],
   "source": [
    "dp"
   ]
  }
 ],
 "metadata": {
  "kernelspec": {
   "display_name": "Python 3 (ipykernel)",
   "language": "python",
   "name": "python3"
  },
  "language_info": {
   "codemirror_mode": {
    "name": "ipython",
    "version": 3
   },
   "file_extension": ".py",
   "mimetype": "text/x-python",
   "name": "python",
   "nbconvert_exporter": "python",
   "pygments_lexer": "ipython3",
   "version": "3.9.7"
  }
 },
 "nbformat": 4,
 "nbformat_minor": 5
}
