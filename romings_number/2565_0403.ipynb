{
 "cells": [
  {
   "cell_type": "markdown",
   "id": "4f701d55",
   "metadata": {},
   "source": [
    "전깃줄 골드 5"
   ]
  },
  {
   "cell_type": "code",
   "execution_count": 4,
   "id": "c0c61602",
   "metadata": {},
   "outputs": [
    {
     "name": "stdout",
     "output_type": "stream",
     "text": [
      "8\n",
      "1 8\n",
      "3 9\n",
      "2 2\n",
      "4 1\n",
      "6 4\n",
      "10 10\n",
      "9 7\n",
      "7 6\n"
     ]
    }
   ],
   "source": [
    "n = int(input())\n",
    "a = []\n",
    "b = []\n",
    "arr = [0] * n\n",
    "\n",
    "for i in range(n):\n",
    "    arr[i] = list(map(int, input().split()))\n"
   ]
  },
  {
   "cell_type": "code",
   "execution_count": 2,
   "id": "e1f22fde",
   "metadata": {},
   "outputs": [
    {
     "name": "stdout",
     "output_type": "stream",
     "text": [
      "[1, 3, 2, 4, 6, 10, 9, 7]\n",
      "[8, 9, 2, 1, 4, 10, 7, 6]\n"
     ]
    }
   ],
   "source": [
    "print(a)\n",
    "print(b)"
   ]
  },
  {
   "cell_type": "code",
   "execution_count": 8,
   "id": "0f14f5a9",
   "metadata": {
    "scrolled": true
   },
   "outputs": [
    {
     "data": {
      "text/plain": [
       "[[1, 8], [2, 2], [3, 9], [4, 1], [6, 4], [7, 6], [9, 7], [10, 10]]"
      ]
     },
     "execution_count": 8,
     "metadata": {},
     "output_type": "execute_result"
    }
   ],
   "source": [
    "arr.sort(key = lambda k : k[0])\n",
    "arr"
   ]
  },
  {
   "cell_type": "markdown",
   "id": "2cf4e13f",
   "metadata": {},
   "source": [
    "14002 가장 긴 증가하는 부분 수열 4 골드4"
   ]
  },
  {
   "cell_type": "code",
   "execution_count": 13,
   "id": "f8482e26",
   "metadata": {},
   "outputs": [
    {
     "name": "stdout",
     "output_type": "stream",
     "text": [
      "6\n",
      "10 20 10 30 20 50\n"
     ]
    }
   ],
   "source": [
    "n = int(input())\n",
    "a = [int(x) for x in input().split()]\n",
    "res = [0]\n",
    "\n",
    "for i in range(n):\n",
    "    res[0] = a[i]\n",
    "    for j in range(i, n):\n",
    "        if res[-1] < a[j]:\n",
    "            res[]\n",
    "        "
   ]
  },
  {
   "cell_type": "code",
   "execution_count": 14,
   "id": "a449e101",
   "metadata": {},
   "outputs": [
    {
     "data": {
      "text/plain": [
       "[10, 20, 10, 30, 20, 50]"
      ]
     },
     "execution_count": 14,
     "metadata": {},
     "output_type": "execute_result"
    }
   ],
   "source": [
    "a"
   ]
  }
 ],
 "metadata": {
  "kernelspec": {
   "display_name": "Python 3",
   "language": "python",
   "name": "python3"
  },
  "language_info": {
   "codemirror_mode": {
    "name": "ipython",
    "version": 3
   },
   "file_extension": ".py",
   "mimetype": "text/x-python",
   "name": "python",
   "nbconvert_exporter": "python",
   "pygments_lexer": "ipython3",
   "version": "3.8.8"
  }
 },
 "nbformat": 4,
 "nbformat_minor": 5
}
