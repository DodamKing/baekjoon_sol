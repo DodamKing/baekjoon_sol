{
 "cells": [
  {
   "cell_type": "markdown",
   "id": "3339707c",
   "metadata": {},
   "source": [
    "랜선 자르기 실버3\n",
    "binary search 이분 탐색? 이분 검색?\n",
    "복잡도 log"
   ]
  },
  {
   "cell_type": "code",
   "execution_count": 1,
   "id": "a1453d16",
   "metadata": {},
   "outputs": [],
   "source": [
    "import sys\n",
    "\n",
    "def binary_s(start, end, arr, n):\n",
    "    if end - start <= 1:\n",
    "        return start\n",
    "    \n",
    "    mid = (start + end) // 2\n",
    "    res = 0\n",
    "    \n",
    "    for item in arr:\n",
    "        res += (item // mid)\n",
    "        \n",
    "    if res < n:\n",
    "        return binary_s(start, end, arr, n)\n",
    "    else:\n",
    "        return binary_s(mid, end, arr, n)"
   ]
  },
  {
   "cell_type": "code",
   "execution_count": 1,
   "id": "a5340129",
   "metadata": {},
   "outputs": [
    {
     "ename": "NameError",
     "evalue": "name 'raw_input' is not defined",
     "output_type": "error",
     "traceback": [
      "\u001b[1;31m---------------------------------------------------------------------------\u001b[0m",
      "\u001b[1;31mNameError\u001b[0m                                 Traceback (most recent call last)",
      "\u001b[1;32m~\\AppData\\Local\\Temp/ipykernel_6072/1575917969.py\u001b[0m in \u001b[0;36m<module>\u001b[1;34m\u001b[0m\n\u001b[0;32m      1\u001b[0m \u001b[1;31m# k, n = map(int, sys.stdin.readline().rstrip().split())\u001b[0m\u001b[1;33m\u001b[0m\u001b[1;33m\u001b[0m\u001b[0m\n\u001b[1;32m----> 2\u001b[1;33m \u001b[0mk\u001b[0m\u001b[1;33m,\u001b[0m \u001b[0mn\u001b[0m \u001b[1;33m=\u001b[0m \u001b[0mmap\u001b[0m\u001b[1;33m(\u001b[0m\u001b[0mint\u001b[0m\u001b[1;33m,\u001b[0m \u001b[0mraw_input\u001b[0m\u001b[1;33m(\u001b[0m\u001b[1;33m)\u001b[0m\u001b[1;33m.\u001b[0m\u001b[0msplit\u001b[0m\u001b[1;33m(\u001b[0m\u001b[1;33m)\u001b[0m\u001b[1;33m)\u001b[0m\u001b[1;33m\u001b[0m\u001b[1;33m\u001b[0m\u001b[0m\n\u001b[0m\u001b[0;32m      3\u001b[0m \u001b[0marr\u001b[0m \u001b[1;33m=\u001b[0m \u001b[1;33m[\u001b[0m\u001b[1;33m]\u001b[0m\u001b[1;33m\u001b[0m\u001b[1;33m\u001b[0m\u001b[0m\n\u001b[0;32m      4\u001b[0m \u001b[0mbig\u001b[0m \u001b[1;33m=\u001b[0m \u001b[1;36m0\u001b[0m\u001b[1;33m\u001b[0m\u001b[1;33m\u001b[0m\u001b[0m\n\u001b[0;32m      5\u001b[0m \u001b[1;33m\u001b[0m\u001b[0m\n",
      "\u001b[1;31mNameError\u001b[0m: name 'raw_input' is not defined"
     ]
    }
   ],
   "source": [
    "# k, n = map(int, sys.stdin.readline().rstrip().split())\n",
    "k, n = map(int, input().split())\n",
    "arr = []\n",
    "big = 0\n",
    "\n",
    "for _ in range(k):\n",
    "#     x = int(sys.stdin.readline().rstrip())\n",
    "    x = int(input())\n",
    "    big = max(big, x)\n",
    "    arr.append(x)\n",
    "\n",
    "print(binary_s(1, big+1, arr, n))"
   ]
  },
  {
   "cell_type": "code",
   "execution_count": null,
   "id": "979ea79b",
   "metadata": {},
   "outputs": [],
   "source": [
    "k, n = map(int, input().split())\n",
    "lan = list(map(int, (input() for _ in range(k))))\n",
    "# lan = [int(input() for _ in range(k))]\n",
    "start, end = 1, max(lan)\n",
    "\n",
    "while start <= end:\n",
    "    mid = (start + end) // 2\n",
    "    lines = 0\n",
    "    \n",
    "    for i in lan:\n",
    "        lines += i // mid\n",
    "        \n",
    "    if lines >= n:\n",
    "        start = mid + 1\n",
    "    else:\n",
    "        end = mid - 1\n",
    "\n",
    "end"
   ]
  },
  {
   "cell_type": "code",
   "execution_count": 1,
   "id": "ff604057",
   "metadata": {},
   "outputs": [
    {
     "ename": "NameError",
     "evalue": "name 'lan' is not defined",
     "output_type": "error",
     "traceback": [
      "\u001b[1;31m---------------------------------------------------------------------------\u001b[0m",
      "\u001b[1;31mNameError\u001b[0m                                 Traceback (most recent call last)",
      "\u001b[1;32m~\\AppData\\Local\\Temp/ipykernel_7440/774449902.py\u001b[0m in \u001b[0;36m<module>\u001b[1;34m\u001b[0m\n\u001b[1;32m----> 1\u001b[1;33m \u001b[0mlan\u001b[0m\u001b[1;33m\u001b[0m\u001b[1;33m\u001b[0m\u001b[0m\n\u001b[0m",
      "\u001b[1;31mNameError\u001b[0m: name 'lan' is not defined"
     ]
    }
   ],
   "source": [
    "lan"
   ]
  }
 ],
 "metadata": {
  "kernelspec": {
   "display_name": "Python 3 (ipykernel)",
   "language": "python",
   "name": "python3"
  },
  "language_info": {
   "codemirror_mode": {
    "name": "ipython",
    "version": 3
   },
   "file_extension": ".py",
   "mimetype": "text/x-python",
   "name": "python",
   "nbconvert_exporter": "python",
   "pygments_lexer": "ipython3",
   "version": "3.9.7"
  }
 },
 "nbformat": 4,
 "nbformat_minor": 5
}
