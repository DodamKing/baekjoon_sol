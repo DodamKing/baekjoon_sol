{
 "cells": [
  {
   "cell_type": "markdown",
   "id": "fa6c9fc1",
   "metadata": {},
   "source": [
    "계단 오르기 실버3"
   ]
  },
  {
   "cell_type": "code",
   "execution_count": 3,
   "id": "c86663a9",
   "metadata": {},
   "outputs": [
    {
     "name": "stdout",
     "output_type": "stream",
     "text": [
      "6\n",
      "10\n",
      "20\n",
      "15\n",
      "25\n",
      "10\n",
      "20\n"
     ]
    }
   ],
   "source": [
    "n = int(input())\n",
    "arr = []\n",
    "\n",
    "for _ in range(n):\n",
    "    arr.append(int(input()))"
   ]
  },
  {
   "cell_type": "code",
   "execution_count": 4,
   "id": "d4046a1d",
   "metadata": {},
   "outputs": [
    {
     "data": {
      "text/plain": [
       "[10, 20, 15, 25, 10, 20]"
      ]
     },
     "execution_count": 4,
     "metadata": {},
     "output_type": "execute_result"
    }
   ],
   "source": [
    "arr"
   ]
  }
 ],
 "metadata": {
  "kernelspec": {
   "display_name": "Python 3 (ipykernel)",
   "language": "python",
   "name": "python3"
  },
  "language_info": {
   "codemirror_mode": {
    "name": "ipython",
    "version": 3
   },
   "file_extension": ".py",
   "mimetype": "text/x-python",
   "name": "python",
   "nbconvert_exporter": "python",
   "pygments_lexer": "ipython3",
   "version": "3.9.7"
  }
 },
 "nbformat": 4,
 "nbformat_minor": 5
}
