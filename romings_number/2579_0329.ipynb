{
 "cells": [
  {
   "cell_type": "markdown",
   "id": "fa6c9fc1",
   "metadata": {},
   "source": [
    "계단 오르기 실버3"
   ]
  },
  {
   "cell_type": "code",
   "execution_count": 7,
   "id": "c86663a9",
   "metadata": {},
   "outputs": [
    {
     "name": "stdout",
     "output_type": "stream",
     "text": [
      "1\n",
      "20\n",
      "20\n",
      "0\n"
     ]
    }
   ],
   "source": [
    "n = int(input())\n",
    "arr = []\n",
    "dp = [0] * n\n",
    "\n",
    "for _ in range(n):\n",
    "    arr.append(int(input()))\n",
    "\n",
    "if n == 1:\n",
    "    print(arr[0])\n",
    "elif n == 2:\n",
    "    print(arr[0] + arr[1])\n",
    "else:\n",
    "    dp[0] = arr[0]\n",
    "    dp[1] = arr[0] + arr[1]\n",
    "    dp[2] = max(arr[0], arr[1]) + arr[2]\n",
    "    for i in range(3, n):\n",
    "        dp[i] = max(dp[i-2], arr[i-1] + dp[i-3]) + arr[i]\n",
    "    \n",
    "    print(dp[-1])"
   ]
  },
  {
   "cell_type": "code",
   "execution_count": 4,
   "id": "d4046a1d",
   "metadata": {},
   "outputs": [
    {
     "data": {
      "text/plain": [
       "[10, 20, 15, 25, 10, 20]"
      ]
     },
     "execution_count": 4,
     "metadata": {},
     "output_type": "execute_result"
    }
   ],
   "source": [
    "arr"
   ]
  }
 ],
 "metadata": {
  "kernelspec": {
   "display_name": "Python 3",
   "language": "python",
   "name": "python3"
  },
  "language_info": {
   "codemirror_mode": {
    "name": "ipython",
    "version": 3
   },
   "file_extension": ".py",
   "mimetype": "text/x-python",
   "name": "python",
   "nbconvert_exporter": "python",
   "pygments_lexer": "ipython3",
   "version": "3.8.8"
  }
 },
 "nbformat": 4,
 "nbformat_minor": 5
}
