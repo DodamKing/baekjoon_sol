{
 "cells": [
  {
   "cell_type": "code",
   "execution_count": 19,
   "id": "ec7e66dc",
   "metadata": {},
   "outputs": [
    {
     "name": "stdout",
     "output_type": "stream",
     "text": [
      "3\n",
      "7\n",
      "6\n"
     ]
    }
   ],
   "source": [
    "n = int(input())\n",
    "k = int(input())\n",
    "\n",
    "a = [[0 for _ in range(n)] for _ in range(n)]\n",
    "for i in range(n):\n",
    "    for j in range(n):\n",
    "        a[i][j] = (i+1) * (j+1)\n",
    "        \n",
    "b = []\n",
    "for i in range(len(a)):\n",
    "    for j in range(len(a[0])):\n",
    "        b.append(a[i][j])\n",
    "        \n",
    "b.sort()\n",
    "print(b[k-1])\n",
    "\n",
    "# 메모리초과\n"
   ]
  },
  {
   "cell_type": "code",
   "execution_count": 3,
   "id": "7decfd84",
   "metadata": {},
   "outputs": [
    {
     "name": "stdout",
     "output_type": "stream",
     "text": [
      "3\n",
      "7\n",
      "6\n"
     ]
    }
   ],
   "source": [
    "n = int(input())\n",
    "k = int(input())\n",
    "\n",
    "start, end = 1, k\n",
    "\n",
    "while True:\n",
    "    mid = (start + end) // 2\n",
    "    cnt = 0\n",
    "    \n",
    "    for i in range(1, n+1):\n",
    "        cnt += min(mid//i, n)\n",
    "        \n",
    "    if cnt < k:\n",
    "        start = mid + 1\n",
    "    else:\n",
    "        ans = mid\n",
    "        end = mid - 1\n",
    "        \n",
    "    if start > end: break\n",
    "\n",
    "print(ans)"
   ]
  }
 ],
 "metadata": {
  "kernelspec": {
   "display_name": "Python 3 (ipykernel)",
   "language": "python",
   "name": "python3"
  },
  "language_info": {
   "codemirror_mode": {
    "name": "ipython",
    "version": 3
   },
   "file_extension": ".py",
   "mimetype": "text/x-python",
   "name": "python",
   "nbconvert_exporter": "python",
   "pygments_lexer": "ipython3",
   "version": "3.9.7"
  }
 },
 "nbformat": 4,
 "nbformat_minor": 5
}
