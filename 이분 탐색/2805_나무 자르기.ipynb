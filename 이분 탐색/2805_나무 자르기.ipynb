{
 "cells": [
  {
   "cell_type": "code",
   "execution_count": 17,
   "id": "afc8de78",
   "metadata": {},
   "outputs": [
    {
     "name": "stdout",
     "output_type": "stream",
     "text": [
      "5 20\n",
      "4 42 40 26 46\n"
     ]
    }
   ],
   "source": [
    "n, m = map(int, input().split())\n",
    "tree = [int(i) for i in input().split()]"
   ]
  },
  {
   "cell_type": "code",
   "execution_count": 23,
   "id": "ea0ced51",
   "metadata": {},
   "outputs": [],
   "source": [
    "mid = max(tree) // 2\n",
    "\n",
    "while True:\n",
    "    tot = 0\n",
    "    for i in tree:\n",
    "        if i > ans:\n",
    "            tot += i - ans\n",
    "    \n",
    "    if tot == m:\n",
    "    \n",
    "# 시간초과"
   ]
  },
  {
   "cell_type": "code",
   "execution_count": 24,
   "id": "3db060b9",
   "metadata": {},
   "outputs": [
    {
     "name": "stdout",
     "output_type": "stream",
     "text": [
      "36\n",
      "20\n"
     ]
    }
   ],
   "source": [
    "print(ans)\n",
    "print(tot)"
   ]
  }
 ],
 "metadata": {
  "kernelspec": {
   "display_name": "Python 3 (ipykernel)",
   "language": "python",
   "name": "python3"
  },
  "language_info": {
   "codemirror_mode": {
    "name": "ipython",
    "version": 3
   },
   "file_extension": ".py",
   "mimetype": "text/x-python",
   "name": "python",
   "nbconvert_exporter": "python",
   "pygments_lexer": "ipython3",
   "version": "3.9.7"
  }
 },
 "nbformat": 4,
 "nbformat_minor": 5
}
