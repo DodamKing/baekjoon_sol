{
 "cells": [
  {
   "cell_type": "code",
   "execution_count": 3,
   "id": "afc8de78",
   "metadata": {},
   "outputs": [
    {
     "name": "stdout",
     "output_type": "stream",
     "text": [
      "5 20\n",
      "4 42 40 26 46\n"
     ]
    }
   ],
   "source": [
    "n, m = map(int, input().split())\n",
    "tree = [int(i) for i in input().split()]"
   ]
  },
  {
   "cell_type": "code",
   "execution_count": 4,
   "id": "ea0ced51",
   "metadata": {},
   "outputs": [],
   "source": [
    "start = 0\n",
    "end = max(tree)\n",
    "\n",
    "while True:\n",
    "    tot = 0\n",
    "    mid = (start + end) // 2\n",
    "    for i in tree:\n",
    "        if i > mid:\n",
    "            tot += i - mid\n",
    "    \n",
    "    if tot >= m:\n",
    "        start = mid + 1\n",
    "    else:\n",
    "        end = mid - 1\n",
    "        \n",
    "    if start > end:\n",
    "        break"
   ]
  },
  {
   "cell_type": "code",
   "execution_count": 5,
   "id": "3db060b9",
   "metadata": {},
   "outputs": [
    {
     "data": {
      "text/plain": [
       "36"
      ]
     },
     "execution_count": 5,
     "metadata": {},
     "output_type": "execute_result"
    }
   ],
   "source": [
    "end"
   ]
  }
 ],
 "metadata": {
  "kernelspec": {
   "display_name": "Python 3 (ipykernel)",
   "language": "python",
   "name": "python3"
  },
  "language_info": {
   "codemirror_mode": {
    "name": "ipython",
    "version": 3
   },
   "file_extension": ".py",
   "mimetype": "text/x-python",
   "name": "python",
   "nbconvert_exporter": "python",
   "pygments_lexer": "ipython3",
   "version": "3.9.7"
  }
 },
 "nbformat": 4,
 "nbformat_minor": 5
}
