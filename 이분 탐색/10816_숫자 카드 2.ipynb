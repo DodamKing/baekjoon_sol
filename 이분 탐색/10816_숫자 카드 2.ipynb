{
 "cells": [
  {
   "cell_type": "code",
   "execution_count": 15,
   "id": "c9b08fd8",
   "metadata": {},
   "outputs": [
    {
     "name": "stdout",
     "output_type": "stream",
     "text": [
      "10\n",
      "6 3 2 10 10 10 -10 -10 7 3\n",
      "8\n",
      "10 9 -5 2 3 4 5 -10\n"
     ]
    }
   ],
   "source": [
    "n = int(input())\n",
    "card = [int(i) for i in input().split()]\n",
    "card.sort()\n",
    "m = int(input())\n",
    "number = [int(i) for i in input().split()]"
   ]
  },
  {
   "cell_type": "code",
   "execution_count": 18,
   "id": "a0f2f1d1",
   "metadata": {},
   "outputs": [],
   "source": [
    "ans = []\n",
    "start = 0\n",
    "end = n - 1\n",
    "\n",
    "def binary(x, li, start, end):\n",
    "    cnt = 0\n",
    "    if start > end:\n",
    "        ans.append(0)\n",
    "        return\n",
    "    \n",
    "    mid = (start + end) // 2\n",
    "    \n",
    "    if x == card[mid]:\n",
    "        ans.append(card.count(x))\n",
    "        cnt += 1\n",
    "    elif x < card[mid]:\n",
    "        binary(x, li, start, mid-1)\n",
    "    else:\n",
    "        binary(x, li, mid+1, end)\n",
    "for i in number:\n",
    "    binary(i, card, start, end)"
   ]
  },
  {
   "cell_type": "code",
   "execution_count": 19,
   "id": "be5b01e8",
   "metadata": {},
   "outputs": [
    {
     "data": {
      "text/plain": [
       "[3, 0, 0, 1, 2, 0, 0, 2]"
      ]
     },
     "execution_count": 19,
     "metadata": {},
     "output_type": "execute_result"
    }
   ],
   "source": [
    "ans"
   ]
  },
  {
   "cell_type": "code",
   "execution_count": 7,
   "id": "0e141f3c",
   "metadata": {},
   "outputs": [
    {
     "name": "stdout",
     "output_type": "stream",
     "text": [
      "3 1 2 2 3 0 0 1 2 0 0 2\n"
     ]
    }
   ],
   "source": [
    "print(*ans)"
   ]
  },
  {
   "cell_type": "code",
   "execution_count": null,
   "id": "24ec183a",
   "metadata": {},
   "outputs": [],
   "source": [
    "# 위에 꺼 시간초과임 해쉬맵을 이용해서?"
   ]
  }
 ],
 "metadata": {
  "kernelspec": {
   "display_name": "Python 3 (ipykernel)",
   "language": "python",
   "name": "python3"
  },
  "language_info": {
   "codemirror_mode": {
    "name": "ipython",
    "version": 3
   },
   "file_extension": ".py",
   "mimetype": "text/x-python",
   "name": "python",
   "nbconvert_exporter": "python",
   "pygments_lexer": "ipython3",
   "version": "3.9.7"
  }
 },
 "nbformat": 4,
 "nbformat_minor": 5
}
