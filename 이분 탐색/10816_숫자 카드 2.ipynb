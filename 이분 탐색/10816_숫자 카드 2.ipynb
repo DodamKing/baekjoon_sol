{
 "cells": [
  {
   "cell_type": "markdown",
   "id": "dff7999b",
   "metadata": {},
   "source": [
    "10\n",
    "\n",
    "6 3 2 10 10 10 -10 -10 7 3\n",
    "\n",
    "8\n",
    "\n",
    "10 9 -5 2 3 4 5 -10"
   ]
  },
  {
   "cell_type": "code",
   "execution_count": 1,
   "id": "c9b08fd8",
   "metadata": {},
   "outputs": [
    {
     "name": "stdout",
     "output_type": "stream",
     "text": [
      "10\n",
      "6 3 2 10 10 10 -10 -10 7 3\n",
      "8\n",
      "10 9 -5 2 3 4 5 -10\n"
     ]
    }
   ],
   "source": [
    "n = int(input())\n",
    "card = [int(i) for i in input().split()]\n",
    "card.sort()\n",
    "m = int(input())\n",
    "number = [int(i) for i in input().split()]"
   ]
  },
  {
   "cell_type": "code",
   "execution_count": 2,
   "id": "a0f2f1d1",
   "metadata": {},
   "outputs": [],
   "source": [
    "ans = []\n",
    "start = 0\n",
    "end = n - 1\n",
    "\n",
    "def binary(x, li, start, end):\n",
    "    cnt = 0\n",
    "    if start > end:\n",
    "        ans.append(0)\n",
    "        return\n",
    "    \n",
    "    mid = (start + end) // 2\n",
    "    \n",
    "    if x == card[mid]:\n",
    "#         ans.append(card.count(x))\n",
    "        ans.append(x)\n",
    "        binary(x, li, start, mid-1)\n",
    "        binary(x, li, mid+1, end)\n",
    "        cnt += 1\n",
    "    elif x < card[mid]:\n",
    "        binary(x, li, start, mid-1)\n",
    "    else:\n",
    "        binary(x, li, mid+1, end)\n",
    "for i in number:\n",
    "    binary(i, card, start, end)"
   ]
  },
  {
   "cell_type": "code",
   "execution_count": 3,
   "id": "be5b01e8",
   "metadata": {},
   "outputs": [
    {
     "data": {
      "text/plain": [
       "[10, 0, 10, 0, 10, 0, 0, 0, 0, 2, 0, 0, 3, 3, 0, 0, 0, 0, 0, -10, -10, 0, 0, 0]"
      ]
     },
     "execution_count": 3,
     "metadata": {},
     "output_type": "execute_result"
    }
   ],
   "source": [
    "ans"
   ]
  },
  {
   "cell_type": "code",
   "execution_count": 6,
   "id": "0e141f3c",
   "metadata": {},
   "outputs": [
    {
     "name": "stdout",
     "output_type": "stream",
     "text": [
      "3 0 0 1 2 0 0 2 "
     ]
    }
   ],
   "source": [
    "from collections import Counter\n",
    "\n",
    "counter = Counter(ans)\n",
    "\n",
    "for i in number:\n",
    "    print(counter[i], end=' ')"
   ]
  },
  {
   "cell_type": "code",
   "execution_count": null,
   "id": "24ec183a",
   "metadata": {},
   "outputs": [],
   "source": [
    "# 위에 꺼 시간초과임 해쉬맵을 이용해서?"
   ]
  },
  {
   "cell_type": "code",
   "execution_count": 16,
   "id": "e398593d",
   "metadata": {},
   "outputs": [],
   "source": [
    "ans = {}\n",
    "start = 0\n",
    "end = n - 1\n",
    "\n",
    "def binary(x, li, start, end):\n",
    "    cnt = 0\n",
    "    if start > end:\n",
    "        ans[x] = 0\n",
    "        return\n",
    "    \n",
    "    mid = (start + end) // 2\n",
    "    \n",
    "    if x == card[mid]:\n",
    "        if x in ans:\n",
    "            ans[x] += 1\n",
    "        else:\n",
    "            ans[x] = 1\n",
    "#         binary(x, li, start, mid-1)\n",
    "#         binary(x, li, mid+1, end)\n",
    "    elif x < card[mid]:\n",
    "        binary(x, li, start, mid-1)\n",
    "    else:\n",
    "        binary(x, li, mid+1, end)\n",
    "for i in number:\n",
    "    binary(i, card, start, end)"
   ]
  },
  {
   "cell_type": "code",
   "execution_count": 23,
   "id": "98619ebf",
   "metadata": {},
   "outputs": [],
   "source": [
    "ans = {}\n",
    "start = 0\n",
    "end = n - 1\n",
    "\n",
    "for x in card:\n",
    "    if x in ans:\n",
    "        ans[x] += 1\n",
    "    else:\n",
    "        ans[x] = 1"
   ]
  },
  {
   "cell_type": "code",
   "execution_count": 24,
   "id": "484ed7fa",
   "metadata": {},
   "outputs": [
    {
     "data": {
      "text/plain": [
       "{-10: 2, 2: 1, 3: 2, 6: 1, 7: 1, 10: 3}"
      ]
     },
     "execution_count": 24,
     "metadata": {},
     "output_type": "execute_result"
    }
   ],
   "source": [
    "ans"
   ]
  },
  {
   "cell_type": "code",
   "execution_count": 25,
   "id": "9c70c5aa",
   "metadata": {},
   "outputs": [
    {
     "name": "stdout",
     "output_type": "stream",
     "text": [
      "10\n",
      "6 3 2 10 10 10 -10 -10 7 3\n",
      "8\n",
      "10 9 -5 2 3 4 5 -10\n"
     ]
    }
   ],
   "source": [
    "# 이분탐색을 이용 안하고 그냥 딕셔너리로만 품\n",
    "# 딕셔너리로 만들고 주어진 수가 딕셔너리에 있는지 없지는 검색 해서 있으면 값 없으면 0 뽑으면 됨\n",
    "\n",
    "n = int(input())\n",
    "card = [int(i) for i in input().split()]\n",
    "m = int(input())\n",
    "number = [int(i) for i in input().split()]"
   ]
  },
  {
   "cell_type": "code",
   "execution_count": 26,
   "id": "a12a89fa",
   "metadata": {},
   "outputs": [],
   "source": [
    "ans = {}\n",
    "start = 0\n",
    "end = n - 1\n",
    "\n",
    "for x in card:\n",
    "    if x in ans:\n",
    "        ans[x] += 1\n",
    "    else:\n",
    "        ans[x] = 1"
   ]
  },
  {
   "cell_type": "code",
   "execution_count": 33,
   "id": "38f52f40",
   "metadata": {},
   "outputs": [
    {
     "name": "stdout",
     "output_type": "stream",
     "text": [
      "3 0 0 1 2 0 0 2 "
     ]
    }
   ],
   "source": [
    "for i in number:\n",
    "    if ans.get(i): print(ans[i], end=' ')\n",
    "    else: print(0, end=' ')"
   ]
  }
 ],
 "metadata": {
  "kernelspec": {
   "display_name": "Python 3 (ipykernel)",
   "language": "python",
   "name": "python3"
  },
  "language_info": {
   "codemirror_mode": {
    "name": "ipython",
    "version": 3
   },
   "file_extension": ".py",
   "mimetype": "text/x-python",
   "name": "python",
   "nbconvert_exporter": "python",
   "pygments_lexer": "ipython3",
   "version": "3.9.7"
  }
 },
 "nbformat": 4,
 "nbformat_minor": 5
}
