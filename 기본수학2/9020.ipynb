{
 "cells": [
  {
   "cell_type": "markdown",
   "id": "d6d5f719",
   "metadata": {},
   "source": [
    "# 백준 9020번\n",
    "## 골드바흐의 추측 실버1\n",
    "### 소수 응용 문제 2"
   ]
  },
  {
   "cell_type": "code",
   "execution_count": 27,
   "id": "f5a0dc05",
   "metadata": {
    "scrolled": false
   },
   "outputs": [
    {
     "name": "stdout",
     "output_type": "stream",
     "text": [
      "3\n",
      "8\n",
      "[3, 5]\n",
      "10\n",
      "[3, 7]\n",
      "16\n",
      "[5, 11]\n"
     ]
    }
   ],
   "source": [
    "import random\n",
    "\n",
    "T = int(input()) # 테스트 케이스\n",
    "\n",
    "for i in range(T):\n",
    "    n = int(input())\n",
    "\n",
    "    a = [False,False] + [True]*(n-1)\n",
    "    primes=[]\n",
    "\n",
    "    for i in range(2,n+1):\n",
    "      if a[i]:\n",
    "        primes.append(i)\n",
    "        for j in range(2*i, n+1, i):\n",
    "            a[j] = False\n",
    "            \n",
    "    while True:\n",
    "        random.shuffle(primes)\n",
    "        if primes[0] + primes[1] == n:\n",
    "            primes = primes[:2]\n",
    "            primes.sort()\n",
    "            print(primes)\n",
    "            break\n"
   ]
  },
  {
   "cell_type": "code",
   "execution_count": 75,
   "id": "f078d415",
   "metadata": {
    "collapsed": true
   },
   "outputs": [
    {
     "ename": "KeyboardInterrupt",
     "evalue": "Interrupted by user",
     "output_type": "error",
     "traceback": [
      "\u001b[1;31m---------------------------------------------------------------------------\u001b[0m",
      "\u001b[1;31mKeyboardInterrupt\u001b[0m                         Traceback (most recent call last)",
      "\u001b[1;32m<ipython-input-75-b7aac3a6c5ce>\u001b[0m in \u001b[0;36m<module>\u001b[1;34m\u001b[0m\n\u001b[0;32m      1\u001b[0m \u001b[1;32mfrom\u001b[0m \u001b[0mitertools\u001b[0m \u001b[1;32mimport\u001b[0m \u001b[0mcombinations_with_replacement\u001b[0m\u001b[1;33m\u001b[0m\u001b[1;33m\u001b[0m\u001b[0m\n\u001b[0;32m      2\u001b[0m \u001b[1;33m\u001b[0m\u001b[0m\n\u001b[1;32m----> 3\u001b[1;33m \u001b[0mT\u001b[0m \u001b[1;33m=\u001b[0m \u001b[0mint\u001b[0m\u001b[1;33m(\u001b[0m\u001b[0minput\u001b[0m\u001b[1;33m(\u001b[0m\u001b[1;33m)\u001b[0m\u001b[1;33m)\u001b[0m\u001b[1;33m\u001b[0m\u001b[1;33m\u001b[0m\u001b[0m\n\u001b[0m\u001b[0;32m      4\u001b[0m \u001b[1;33m\u001b[0m\u001b[0m\n\u001b[0;32m      5\u001b[0m \u001b[1;32mfor\u001b[0m \u001b[0mi\u001b[0m \u001b[1;32min\u001b[0m \u001b[0mrange\u001b[0m\u001b[1;33m(\u001b[0m\u001b[0mT\u001b[0m\u001b[1;33m)\u001b[0m\u001b[1;33m:\u001b[0m\u001b[1;33m\u001b[0m\u001b[1;33m\u001b[0m\u001b[0m\n",
      "\u001b[1;32mC:\\ProgramData\\Anaconda3\\lib\\site-packages\\ipykernel\\kernelbase.py\u001b[0m in \u001b[0;36mraw_input\u001b[1;34m(self, prompt)\u001b[0m\n\u001b[0;32m    858\u001b[0m                 \u001b[1;34m\"raw_input was called, but this frontend does not support input requests.\"\u001b[0m\u001b[1;33m\u001b[0m\u001b[1;33m\u001b[0m\u001b[0m\n\u001b[0;32m    859\u001b[0m             )\n\u001b[1;32m--> 860\u001b[1;33m         return self._input_request(str(prompt),\n\u001b[0m\u001b[0;32m    861\u001b[0m             \u001b[0mself\u001b[0m\u001b[1;33m.\u001b[0m\u001b[0m_parent_ident\u001b[0m\u001b[1;33m,\u001b[0m\u001b[1;33m\u001b[0m\u001b[1;33m\u001b[0m\u001b[0m\n\u001b[0;32m    862\u001b[0m             \u001b[0mself\u001b[0m\u001b[1;33m.\u001b[0m\u001b[0m_parent_header\u001b[0m\u001b[1;33m,\u001b[0m\u001b[1;33m\u001b[0m\u001b[1;33m\u001b[0m\u001b[0m\n",
      "\u001b[1;32mC:\\ProgramData\\Anaconda3\\lib\\site-packages\\ipykernel\\kernelbase.py\u001b[0m in \u001b[0;36m_input_request\u001b[1;34m(self, prompt, ident, parent, password)\u001b[0m\n\u001b[0;32m    902\u001b[0m             \u001b[1;32mexcept\u001b[0m \u001b[0mKeyboardInterrupt\u001b[0m\u001b[1;33m:\u001b[0m\u001b[1;33m\u001b[0m\u001b[1;33m\u001b[0m\u001b[0m\n\u001b[0;32m    903\u001b[0m                 \u001b[1;31m# re-raise KeyboardInterrupt, to truncate traceback\u001b[0m\u001b[1;33m\u001b[0m\u001b[1;33m\u001b[0m\u001b[1;33m\u001b[0m\u001b[0m\n\u001b[1;32m--> 904\u001b[1;33m                 \u001b[1;32mraise\u001b[0m \u001b[0mKeyboardInterrupt\u001b[0m\u001b[1;33m(\u001b[0m\u001b[1;34m\"Interrupted by user\"\u001b[0m\u001b[1;33m)\u001b[0m \u001b[1;32mfrom\u001b[0m \u001b[1;32mNone\u001b[0m\u001b[1;33m\u001b[0m\u001b[1;33m\u001b[0m\u001b[0m\n\u001b[0m\u001b[0;32m    905\u001b[0m             \u001b[1;32mexcept\u001b[0m \u001b[0mException\u001b[0m \u001b[1;32mas\u001b[0m \u001b[0me\u001b[0m\u001b[1;33m:\u001b[0m\u001b[1;33m\u001b[0m\u001b[1;33m\u001b[0m\u001b[0m\n\u001b[0;32m    906\u001b[0m                 \u001b[0mself\u001b[0m\u001b[1;33m.\u001b[0m\u001b[0mlog\u001b[0m\u001b[1;33m.\u001b[0m\u001b[0mwarning\u001b[0m\u001b[1;33m(\u001b[0m\u001b[1;34m\"Invalid Message:\"\u001b[0m\u001b[1;33m,\u001b[0m \u001b[0mexc_info\u001b[0m\u001b[1;33m=\u001b[0m\u001b[1;32mTrue\u001b[0m\u001b[1;33m)\u001b[0m\u001b[1;33m\u001b[0m\u001b[1;33m\u001b[0m\u001b[0m\n",
      "\u001b[1;31mKeyboardInterrupt\u001b[0m: Interrupted by user"
     ]
    }
   ],
   "source": [
    "from itertools import combinations_with_replacement\n",
    "\n",
    "T = int(input())\n",
    "\n",
    "for i in range(T):\n",
    "    n = int(input())\n",
    "\n",
    "    a = [False,False] + [True]*(n-1)\n",
    "    primes=[]\n",
    "\n",
    "    for i in range(2, n+1):\n",
    "      if a[i]:\n",
    "        primes.append(i)\n",
    "        for j in range(2*i, n+1, i):\n",
    "            a[j] = False\n",
    "\n",
    "    gold_list = []\n",
    "    comb_list = list(combinations_with_replacement(primes, 2))\n",
    "    for i in comb_list:\n",
    "        if sum(i) == n:\n",
    "            gold_list.append(i)\n",
    "            answer = gold_list[-1]\n",
    "    print('{} {}'.format(answer[0], answer[1]))\n"
   ]
  },
  {
   "cell_type": "code",
   "execution_count": null,
   "id": "9ed43ba2",
   "metadata": {},
   "outputs": [],
   "source": []
  },
  {
   "cell_type": "code",
   "execution_count": 101,
   "id": "c435c19a",
   "metadata": {},
   "outputs": [
    {
     "name": "stdout",
     "output_type": "stream",
     "text": [
      "1\n",
      "50\n",
      "19 31\n"
     ]
    }
   ],
   "source": [
    "import math\n",
    "\n",
    "def sosu(x):\n",
    "    max = int(math.sqrt(x))\n",
    "\n",
    "    if x == 1:\n",
    "        return False\n",
    "    elif x == 2:\n",
    "        return True\n",
    "    elif x % 2 == 0:\n",
    "        return False\n",
    "\n",
    "    for i in range(3, max + 1):\n",
    "        if x % i == 0:\n",
    "            return False\n",
    "    return True\n",
    "\n",
    "T = int(input())\n",
    "    \n",
    "for i in range(T):\n",
    "    n = int(input())\n",
    "   \n",
    "    for i in range(n):\n",
    "        gold_list = []\n",
    "        p = n - i\n",
    "        if sosu(i) == True and sosu(p) == True and p - i >= 0:\n",
    "            gold_list.append((i, p))\n",
    "            answer = gold_list[-1]\n",
    "    print('{} {}'.format(answer[0], answer[1]))"
   ]
  },
  {
   "cell_type": "code",
   "execution_count": null,
   "id": "f4f710d5",
   "metadata": {},
   "outputs": [],
   "source": []
  },
  {
   "cell_type": "code",
   "execution_count": null,
   "id": "70f2ca8b",
   "metadata": {},
   "outputs": [],
   "source": []
  }
 ],
 "metadata": {
  "kernelspec": {
   "display_name": "Python 3",
   "language": "python",
   "name": "python3"
  },
  "language_info": {
   "codemirror_mode": {
    "name": "ipython",
    "version": 3
   },
   "file_extension": ".py",
   "mimetype": "text/x-python",
   "name": "python",
   "nbconvert_exporter": "python",
   "pygments_lexer": "ipython3",
   "version": "3.8.8"
  }
 },
 "nbformat": 4,
 "nbformat_minor": 5
}
