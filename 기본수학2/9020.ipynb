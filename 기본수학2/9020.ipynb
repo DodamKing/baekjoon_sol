{
 "cells": [
  {
   "cell_type": "markdown",
   "id": "d6d5f719",
   "metadata": {},
   "source": [
    "# 백준 9020번\n",
    "## 골드바흐의 추측 실버1\n",
    "### 소수 응용 문제 2"
   ]
  },
  {
   "cell_type": "code",
   "execution_count": 27,
   "id": "f5a0dc05",
   "metadata": {
    "scrolled": false
   },
   "outputs": [
    {
     "name": "stdout",
     "output_type": "stream",
     "text": [
      "3\n",
      "8\n",
      "[3, 5]\n",
      "10\n",
      "[3, 7]\n",
      "16\n",
      "[5, 11]\n"
     ]
    }
   ],
   "source": [
    "import random\n",
    "\n",
    "T = int(input()) # 테스트 케이스\n",
    "\n",
    "for i in range(T):\n",
    "    n = int(input())\n",
    "\n",
    "    a = [False,False] + [True]*(n-1)\n",
    "    primes=[]\n",
    "\n",
    "    for i in range(2,n+1):\n",
    "      if a[i]:\n",
    "        primes.append(i)\n",
    "        for j in range(2*i, n+1, i):\n",
    "            a[j] = False\n",
    "            \n",
    "    while True:\n",
    "        random.shuffle(primes)\n",
    "        if primes[0] + primes[1] == n:\n",
    "            primes = primes[:2]\n",
    "            primes.sort()\n",
    "            print(primes)\n",
    "            break\n"
   ]
  },
  {
   "cell_type": "code",
   "execution_count": 28,
   "id": "f078d415",
   "metadata": {},
   "outputs": [
    {
     "name": "stdout",
     "output_type": "stream",
     "text": [
      "1\n",
      "49\n",
      "[(2, 47)]\n",
      "2 47\n"
     ]
    }
   ],
   "source": [
    "from itertools import combinations_with_replacement\n",
    "\n",
    "T = int(input())\n",
    "\n",
    "for i in range(T):\n",
    "    n = int(input())\n",
    "\n",
    "    a = [True]*n\n",
    "    m =  int(n ** 0.5)\n",
    "    for i in range(2, m+1):\n",
    "      if a[i] == True:\n",
    "        for j in range(i+i, n, i):\n",
    "            a[j] = False\n",
    "    primes = [i for i in range(2, n) if a[i] == True]\n",
    "  \n",
    "        \n",
    "    comb_list = list(combinations_with_replacement(primes, 2))\n",
    "    gold_list = []\n",
    "    for i in comb_list:\n",
    "        if sum(i) == n:\n",
    "            gold_list.append(i)\n",
    "            answer = gold_list[-1]\n",
    "    if n >= 4:\n",
    "        print(gold_list)\n",
    "        print('{} {}'.format(answer[0], answer[1]))\n"
   ]
  },
  {
   "cell_type": "code",
   "execution_count": null,
   "id": "9ed43ba2",
   "metadata": {},
   "outputs": [],
   "source": []
  },
  {
   "cell_type": "code",
   "execution_count": 54,
   "id": "c435c19a",
   "metadata": {},
   "outputs": [
    {
     "name": "stdout",
     "output_type": "stream",
     "text": [
      "1\n",
      "4\n",
      "2 2\n"
     ]
    }
   ],
   "source": [
    "def sosu(x):\n",
    "    m = int(x**0.5)\n",
    "\n",
    "    p_list = [False,False] + [True]*(x-1)\n",
    "\n",
    "    for i in range(m+1):\n",
    "        if p_list[i] == True:\n",
    "            for j in range(i+i, x+1, i):\n",
    "                p_list[j] = False\n",
    "    return p_list[x]\n",
    "                \n",
    "T = int(input())\n",
    "gold_list = []\n",
    "    \n",
    "for i in range(T):\n",
    "    n = int(input())\n",
    "   \n",
    "    for i in range(n):\n",
    "        p = n - i\n",
    "        if sosu(i) == True and sosu(p) == True and p - i >= 0:\n",
    "            gold_list.append((i, p))\n",
    "            answer = gold_list[-1]\n",
    "    print('{} {}'.format(answer[0], answer[1]))"
   ]
  },
  {
   "cell_type": "code",
   "execution_count": 65,
   "id": "f4f710d5",
   "metadata": {},
   "outputs": [
    {
     "name": "stdout",
     "output_type": "stream",
     "text": [
      "[2, 3, 5]\n"
     ]
    }
   ],
   "source": [
    "def prime(x): # 소수 리스트 작성 에라토스테네스의 체\n",
    "    a = [True] * x\n",
    "    m = int(x ** 0.5)\n",
    "    for i in range(2, m + 1):\n",
    "        if a[i] == True:\n",
    "            for j in range(i+i, x, i):\n",
    "                a[j] = False\n",
    "    return [i for i in range(2, x) if a[i]==True]"
   ]
  },
  {
   "cell_type": "code",
   "execution_count": 68,
   "id": "70f2ca8b",
   "metadata": {},
   "outputs": [
    {
     "name": "stdout",
     "output_type": "stream",
     "text": [
      "[2, 5]\n"
     ]
    }
   ],
   "source": [
    "def gold(x): # 합이 입력값과 같아지는 소수 찾기\n",
    "    p_list = prime(x)\n",
    "    middle = max([i for i in range(len(p_list)) if p_list[i] <= x/2]) # 두 수의 차가 가장 작아야 하므로 중앙에서 부터 찾는다\n",
    "    for i in range(middle, -1, -1): # 중앙에서 거꾸로 작아지면서\n",
    "        for j in range(i, len(p_list)): # 중앙에서 커지면서\n",
    "            if p_list[i] + p_list[j] == x: # 합이 x가 되는\n",
    "                return [p_list[i], p_list[j]]"
   ]
  },
  {
   "cell_type": "code",
   "execution_count": 71,
   "id": "6c0d737d",
   "metadata": {},
   "outputs": [
    {
     "name": "stdout",
     "output_type": "stream",
     "text": [
      "1\n",
      "100\n",
      "47 53\n"
     ]
    }
   ],
   "source": [
    "T = int(input())\n",
    "for i in range(T):\n",
    "    n = int(input())\n",
    "    answer = gold(n)\n",
    "    print('{} {}'.format(answer[0], answer[1]))"
   ]
  },
  {
   "cell_type": "code",
   "execution_count": null,
   "id": "97d95f01",
   "metadata": {},
   "outputs": [],
   "source": []
  },
  {
   "cell_type": "code",
   "execution_count": null,
   "id": "a6b750e1",
   "metadata": {},
   "outputs": [],
   "source": []
  }
 ],
 "metadata": {
  "kernelspec": {
   "display_name": "Python 3",
   "language": "python",
   "name": "python3"
  },
  "language_info": {
   "codemirror_mode": {
    "name": "ipython",
    "version": 3
   },
   "file_extension": ".py",
   "mimetype": "text/x-python",
   "name": "python",
   "nbconvert_exporter": "python",
   "pygments_lexer": "ipython3",
   "version": "3.8.8"
  }
 },
 "nbformat": 4,
 "nbformat_minor": 5
}
