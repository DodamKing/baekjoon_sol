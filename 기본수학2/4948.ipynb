{
 "cells": [
  {
   "cell_type": "markdown",
   "id": "786af43f",
   "metadata": {},
   "source": [
    "# 백준 4948번 배르트랑 공준\n",
    "## 실버 2소수 응용 문제 1"
   ]
  },
  {
   "cell_type": "markdown",
   "id": "3a828e2c",
   "metadata": {},
   "source": [
    "### 체의 원리를 이용한 나만의 풀이 자꾸 시간초과남 개 빡침"
   ]
  },
  {
   "cell_type": "code",
   "execution_count": 82,
   "id": "c973fd35",
   "metadata": {},
   "outputs": [
    {
     "name": "stdout",
     "output_type": "stream",
     "text": [
      "0\n"
     ]
    }
   ],
   "source": [
    "import math\n",
    "\n",
    "def sosu(x):\n",
    "    max = int(math.sqrt(x))\n",
    "    \n",
    "    if x == 1:\n",
    "        return False\n",
    "    elif x == 2:\n",
    "        return True\n",
    "    elif x % 2 == 0:\n",
    "        return False\n",
    "    \n",
    "    for i in range(3, max + 1):\n",
    "        if x % i == 0:\n",
    "            return False\n",
    "    return True\n",
    "\n",
    "while True:\n",
    "    n = int(input())\n",
    "    if n == 0:\n",
    "        break\n",
    "    else:\n",
    "        sosu_list = []\n",
    "        answer_list = []\n",
    "        all_list = list(range(1, 123456 * 2 + 1))\n",
    "        for j in all_list:\n",
    "            if sosu(j) == True:\n",
    "                sosu_list.append(j)\n",
    "\n",
    "        for i in sosu_list:\n",
    "            if n <= i <= 2*n:\n",
    "                answer_list.append(i)\n",
    "        \n",
    "    print(len(answer_list))"
   ]
  },
  {
   "cell_type": "markdown",
   "id": "e11ebb8b",
   "metadata": {},
   "source": [
    "체 코드를 구글링해서 그냥 붙임 이해 안됨\n",
    "아무튼 체에서 소수를 리스트를 작성해 주니 리스트의 길이를 구해서 답을 작성\n",
    "맞았습니다. 편안~~\n",
    "\n",
    "3시간 동안 고민했는데 결국 시간초과 뜨고 삽질 너무 했나 싶음 ㅠㅠ"
   ]
  },
  {
   "cell_type": "code",
   "execution_count": 81,
   "id": "f2d06c55",
   "metadata": {},
   "outputs": [
    {
     "name": "stdout",
     "output_type": "stream",
     "text": [
      "675\n",
      "95\n",
      "0\n"
     ]
    }
   ],
   "source": [
    "def sosu(n):    \n",
    "    a = [False,False] + [True]*(n-1)\n",
    "    primes=[]\n",
    "\n",
    "    for i in range(2,n+1):\n",
    "      if a[i]:\n",
    "        primes.append(i)\n",
    "        for j in range(2*i, n+1, i):\n",
    "            a[j] = False\n",
    "    return primes\n",
    "\n",
    "while True:\n",
    "    n = int(input())\n",
    "    min = len(sosu(n))\n",
    "    max = len(sosu(2*n))\n",
    "    if n == 0:\n",
    "        break\n",
    "    else:\n",
    "        print(max - min)"
   ]
  }
 ],
 "metadata": {
  "kernelspec": {
   "display_name": "Python 3",
   "language": "python",
   "name": "python3"
  },
  "language_info": {
   "codemirror_mode": {
    "name": "ipython",
    "version": 3
   },
   "file_extension": ".py",
   "mimetype": "text/x-python",
   "name": "python",
   "nbconvert_exporter": "python",
   "pygments_lexer": "ipython3",
   "version": "3.8.8"
  }
 },
 "nbformat": 4,
 "nbformat_minor": 5
}
