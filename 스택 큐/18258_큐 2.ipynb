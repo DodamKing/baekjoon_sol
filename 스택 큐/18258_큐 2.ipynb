{
 "cells": [
  {
   "cell_type": "code",
   "execution_count": 6,
   "id": "deb04e95",
   "metadata": {
    "collapsed": true
   },
   "outputs": [
    {
     "name": "stdout",
     "output_type": "stream",
     "text": [
      "15\n",
      "push 1\n",
      "push 2\n",
      "front\n",
      "1\n",
      "back\n",
      "2\n",
      "size\n",
      "2\n",
      "empty\n",
      "0\n",
      "pop\n",
      "1\n",
      "pop\n",
      "2\n",
      "pop\n",
      "-1\n",
      "size\n",
      "0\n",
      "empty\n",
      "1\n",
      "pop\n",
      "-1\n",
      "push 3\n",
      "empyt\n",
      "empty\n",
      "0\n"
     ]
    }
   ],
   "source": [
    "n = int(input())\n",
    "\n",
    "queue = []\n",
    "for _ in range(n):\n",
    "    com = input().split()\n",
    "    if com[0] == 'push':\n",
    "        queue.append(com[1])\n",
    "    elif com[0] == 'pop':\n",
    "        if not queue:\n",
    "            print(-1)\n",
    "        else:\n",
    "            print(queue.pop(0))\n",
    "    elif com[0] == 'size':\n",
    "        print(len(queue))\n",
    "    elif com[0] == 'empty':\n",
    "        if not queue:\n",
    "            print(1)\n",
    "        else:\n",
    "            print(0)\n",
    "    elif com[0] == 'front':\n",
    "        if not queue:\n",
    "            print(-1)\n",
    "        else:\n",
    "            print(queue[0])\n",
    "    elif com[0] == 'back':\n",
    "        if not queue:\n",
    "            print(-1)\n",
    "        else: print(queue[-1])"
   ]
  },
  {
   "cell_type": "markdown",
   "id": "01407c4f",
   "metadata": {},
   "source": [
    "pop에서 시간초과 발생\n",
    "\n",
    "pop(0)을 사용하면 0번째 값을 제거 하긴 하지만 리스트를 새로\n",
    "앞으로 하나씩 당겨서 생성해야 하므로\n",
    "O(n)의 시간 복잡도\n",
    "\n",
    "따라서 deque의 queleft를 사용"
   ]
  },
  {
   "cell_type": "code",
   "execution_count": null,
   "id": "32ddd09e",
   "metadata": {},
   "outputs": [],
   "source": [
    "\n",
    "from collections import deque\n",
    "\n",
    "n = int(input())\n",
    "queue = deque([])\n",
    "\n",
    "for _ in range(n):\n",
    "    com = input().split()\n",
    "    if com[0] == 'push':\n",
    "        queue.append(com[1])\n",
    "    elif com[0] == 'pop':\n",
    "        if not queue:\n",
    "            print(-1)\n",
    "        else:\n",
    "            print(queue.popleft())\n",
    "    elif com[0] == 'size':\n",
    "        print(len(queue))\n",
    "    elif com[0] == 'empty':\n",
    "        if not queue:\n",
    "            print(1)\n",
    "        else:\n",
    "            print(0)\n",
    "    elif com[0] == 'front':\n",
    "        if not queue:\n",
    "            print(-1)\n",
    "        else:\n",
    "            print(queue[0])\n",
    "    elif com[0] == 'back':\n",
    "        if not queue:\n",
    "            print(-1)\n",
    "        else: print(queue[-1])"
   ]
  },
  {
   "cell_type": "markdown",
   "id": "3417de38",
   "metadata": {},
   "source": [
    "deque뿐 아니라 input도 느려서 \n",
    "sys.stdin.readline 까지 사용해야 시간초과를 벗어남"
   ]
  }
 ],
 "metadata": {
  "kernelspec": {
   "display_name": "Python 3 (ipykernel)",
   "language": "python",
   "name": "python3"
  },
  "language_info": {
   "codemirror_mode": {
    "name": "ipython",
    "version": 3
   },
   "file_extension": ".py",
   "mimetype": "text/x-python",
   "name": "python",
   "nbconvert_exporter": "python",
   "pygments_lexer": "ipython3",
   "version": "3.9.7"
  }
 },
 "nbformat": 4,
 "nbformat_minor": 5
}
