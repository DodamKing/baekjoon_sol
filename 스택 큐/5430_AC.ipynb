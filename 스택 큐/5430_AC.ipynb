{
 "cells": [
  {
   "cell_type": "code",
   "execution_count": 15,
   "id": "3e237ff6",
   "metadata": {},
   "outputs": [
    {
     "name": "stdout",
     "output_type": "stream",
     "text": [
      "1\n",
      "RDD\n",
      "4\n",
      "[1,2,3,4]\n",
      "[2, 1]\n"
     ]
    }
   ],
   "source": [
    "t = int(input())\n",
    "e = False\n",
    "\n",
    "for _ in range(t):\n",
    "    p = input()\n",
    "    n = int(input())\n",
    "    arr = [int(i) for i in input()[1:-1].split(',')]\n",
    "    \n",
    "    for i in p:\n",
    "        if i == 'R':\n",
    "            arr.reverse()\n",
    "        elif i == 'D':\n",
    "            if arr:\n",
    "                arr.pop(0)\n",
    "            else:\n",
    "                e = True\n",
    "    if e:\n",
    "        print('error')\n",
    "    else:\n",
    "        print(arr)"
   ]
  },
  {
   "cell_type": "code",
   "execution_count": 48,
   "id": "f5af02a3",
   "metadata": {},
   "outputs": [
    {
     "name": "stdout",
     "output_type": "stream",
     "text": [
      "1\n",
      "D\n",
      "0\n",
      "[]\n",
      "[]\n"
     ]
    }
   ],
   "source": [
    "t = int(input())\n",
    "\n",
    "for _ in range(t):\n",
    "    p = input().replace('RR', '')\n",
    "    n = int(input())\n",
    "    arr = [i for i in input().strip()[1:-1].split(',')]\n",
    "    rev = 0\n",
    "    e = False #와 이것 때문에 틀렸다니... 테스트 케이스 마다 초기화를 시켰어야...\n",
    "    \n",
    "    for i in p:\n",
    "        if i == 'R':\n",
    "            rev += 1\n",
    "        elif i == 'D':\n",
    "            if n == 0 or not arr:\n",
    "                e = True\n",
    "            else:\n",
    "                if rev % 2 == 0:\n",
    "                    arr.pop(0)\n",
    "                else:\n",
    "                    arr.pop()\n",
    "    if e:\n",
    "        print('error')\n",
    "    else:\n",
    "        if rev % 2 != 0:\n",
    "            arr.reverse()\n",
    "        print(\"[\"+\",\".join(arr)+\"]\")"
   ]
  },
  {
   "cell_type": "code",
   "execution_count": 40,
   "id": "f57aa28d",
   "metadata": {},
   "outputs": [
    {
     "data": {
      "text/plain": [
       "'D'"
      ]
     },
     "execution_count": 40,
     "metadata": {},
     "output_type": "execute_result"
    }
   ],
   "source": [
    "RRD\n",
    "6\n",
    "[1,1,2,3,5,8]\n",
    "D\n",
    "0\n",
    "[]"
   ]
  }
 ],
 "metadata": {
  "kernelspec": {
   "display_name": "Python 3 (ipykernel)",
   "language": "python",
   "name": "python3"
  },
  "language_info": {
   "codemirror_mode": {
    "name": "ipython",
    "version": 3
   },
   "file_extension": ".py",
   "mimetype": "text/x-python",
   "name": "python",
   "nbconvert_exporter": "python",
   "pygments_lexer": "ipython3",
   "version": "3.9.7"
  }
 },
 "nbformat": 4,
 "nbformat_minor": 5
}
