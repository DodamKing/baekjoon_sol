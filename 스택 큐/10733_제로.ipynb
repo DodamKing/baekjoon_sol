{
 "cells": [
  {
   "cell_type": "code",
   "execution_count": 3,
   "id": "b21cb6ae",
   "metadata": {},
   "outputs": [
    {
     "name": "stdout",
     "output_type": "stream",
     "text": [
      "10\n",
      "1\n",
      "3\n",
      "5\n",
      "4\n",
      "0\n",
      "0\n",
      "7\n",
      "0\n",
      "0\n",
      "6\n",
      "7\n"
     ]
    }
   ],
   "source": [
    "k = int(input())\n",
    "stack = []\n",
    "for _ in range(k):\n",
    "    num = int(input())\n",
    "    if num == 0:\n",
    "        stack.pop()\n",
    "    else:\n",
    "        stack.append(num)\n",
    "        \n",
    "print(sum(stack))"
   ]
  },
  {
   "cell_type": "code",
   "execution_count": null,
   "id": "c53410a5",
   "metadata": {},
   "outputs": [],
   "source": [
    "10\n",
    "1\n",
    "3\n",
    "5\n",
    "4\n",
    "0\n",
    "0\n",
    "7\n",
    "0\n",
    "0\n",
    "6"
   ]
  }
 ],
 "metadata": {
  "kernelspec": {
   "display_name": "Python 3 (ipykernel)",
   "language": "python",
   "name": "python3"
  },
  "language_info": {
   "codemirror_mode": {
    "name": "ipython",
    "version": 3
   },
   "file_extension": ".py",
   "mimetype": "text/x-python",
   "name": "python",
   "nbconvert_exporter": "python",
   "pygments_lexer": "ipython3",
   "version": "3.9.7"
  }
 },
 "nbformat": 4,
 "nbformat_minor": 5
}
