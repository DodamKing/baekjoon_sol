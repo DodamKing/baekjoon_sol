{
 "cells": [
  {
   "cell_type": "code",
   "execution_count": 10,
   "id": "a61a06f5",
   "metadata": {},
   "outputs": [
    {
     "name": "stdout",
     "output_type": "stream",
     "text": [
      "4\n",
      "9 5 4 8\n",
      "-1 8 8 -1\n"
     ]
    }
   ],
   "source": [
    "n = int(input())\n",
    "a = [int(x) for x in input().split()]\n",
    "ans = [-1] * n\n",
    "\n",
    "for i in range(n):\n",
    "    for j in range(i, n):\n",
    "        if a[i] < a[j]:\n",
    "            ans[i] = a[j]\n",
    "            break\n",
    "\n",
    "print(*ans)"
   ]
  },
  {
   "cell_type": "markdown",
   "id": "6e8bd54f",
   "metadata": {},
   "source": [
    "이중 for문 N**2 시간 복잡도\n",
    "\n",
    "stack 사용 해야 함"
   ]
  },
  {
   "cell_type": "code",
   "execution_count": 12,
   "id": "47349702",
   "metadata": {},
   "outputs": [
    {
     "name": "stdout",
     "output_type": "stream",
     "text": [
      "4\n",
      "9 5 4 8\n",
      "-1 8 8 -1\n"
     ]
    }
   ],
   "source": [
    "n = int(input())\n",
    "a = [int(x) for x in input().split()]\n",
    "ans = [-1] * n\n",
    "stack = []\n",
    "\n",
    "for i in range(n):\n",
    "    while stack and a[stack[-1]] < a[i]:\n",
    "        ans[stack.pop()] = a[i]\n",
    "    stack.append(i)\n",
    "    \n",
    "print(*ans)"
   ]
  },
  {
   "cell_type": "markdown",
   "id": "c8e60d15",
   "metadata": {},
   "source": [
    "개어려움 모름 ㅠㅠ"
   ]
  }
 ],
 "metadata": {
  "kernelspec": {
   "display_name": "Python 3 (ipykernel)",
   "language": "python",
   "name": "python3"
  },
  "language_info": {
   "codemirror_mode": {
    "name": "ipython",
    "version": 3
   },
   "file_extension": ".py",
   "mimetype": "text/x-python",
   "name": "python",
   "nbconvert_exporter": "python",
   "pygments_lexer": "ipython3",
   "version": "3.9.7"
  }
 },
 "nbformat": 4,
 "nbformat_minor": 5
}
