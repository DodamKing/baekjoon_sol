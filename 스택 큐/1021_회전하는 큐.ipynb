{
 "cells": [
  {
   "cell_type": "code",
   "execution_count": 10,
   "id": "390f675d",
   "metadata": {},
   "outputs": [
    {
     "name": "stdout",
     "output_type": "stream",
     "text": [
      "32 6\n",
      "27 16 30 11 6 23\n",
      "59\n"
     ]
    }
   ],
   "source": [
    "from collections import deque\n",
    "\n",
    "n, m = map(int, input().split())\n",
    "idx = [int(x) for x in input().split()]\n",
    "arr = [int(x) for x in range(1, n+1)]\n",
    "cnt = 0\n",
    "\n",
    "for i in range(m):\n",
    "    l = len(arr)\n",
    "    if arr.index(idx[i]) <= l / 2:\n",
    "        while True:\n",
    "            if arr[0] == idx[i]:\n",
    "                arr.pop(0)\n",
    "                break\n",
    "            else:\n",
    "                arr.append(arr.pop(0))\n",
    "                cnt += 1\n",
    "    else:\n",
    "        while True:\n",
    "            if arr[0] == idx[i]:\n",
    "                arr.pop(0)\n",
    "                break\n",
    "            else:\n",
    "                arr.insert(0, arr.pop())\n",
    "                cnt += 1\n",
    "                \n",
    "print(cnt)\n",
    "    "
   ]
  }
 ],
 "metadata": {
  "kernelspec": {
   "display_name": "Python 3 (ipykernel)",
   "language": "python",
   "name": "python3"
  },
  "language_info": {
   "codemirror_mode": {
    "name": "ipython",
    "version": 3
   },
   "file_extension": ".py",
   "mimetype": "text/x-python",
   "name": "python",
   "nbconvert_exporter": "python",
   "pygments_lexer": "ipython3",
   "version": "3.9.7"
  }
 },
 "nbformat": 4,
 "nbformat_minor": 5
}
