{
 "cells": [
  {
   "cell_type": "code",
   "execution_count": 2,
   "id": "852547cd",
   "metadata": {},
   "outputs": [
    {
     "name": "stdout",
     "output_type": "stream",
     "text": [
      "15\n",
      "push_back 1\n",
      "push_front 2\n",
      "front\n",
      "2\n",
      "back\n",
      "1\n",
      "size\n",
      "2\n",
      "empty\n",
      "0\n",
      "pop_front\n",
      "pop_back\n",
      "pop_front\n",
      "size\n",
      "0\n",
      "empty\n",
      "1\n",
      "pop_back\n",
      "push_front 3\n",
      "empty\n",
      "0\n",
      "front\n",
      "3\n"
     ]
    }
   ],
   "source": [
    "from collections import deque\n",
    "\n",
    "n = int(input())\n",
    "deque = deque([])\n",
    "\n",
    "for _ in range(n):\n",
    "    com = input().split()\n",
    "    \n",
    "    if com[0] == 'push_front':\n",
    "        deque.appendleft(com[1])\n",
    "    elif com[0] == 'push_back':\n",
    "        deque.append(com[1])\n",
    "    elif com[0] == 'pop_front':\n",
    "        if deque:\n",
    "            print(deque.popleft())\n",
    "        else:\n",
    "            print(-1)\n",
    "    elif com[0] == 'pop_back':\n",
    "        if deque:\n",
    "            print(deque.pop())\n",
    "        else:\n",
    "            print(-1)\n",
    "    elif com[0] == 'size':\n",
    "        print(len(deque))\n",
    "    elif com[0] == 'empty':\n",
    "        if deque:\n",
    "            print(0)\n",
    "        else:\n",
    "            print(1)\n",
    "    elif com[0] == 'front':\n",
    "        if deque:\n",
    "            print(deque[0])\n",
    "        else:\n",
    "            print(-1)\n",
    "    elif com[0] == 'back':\n",
    "        if deque:\n",
    "            print(deque[-1])\n",
    "        else:\n",
    "            print(-1)"
   ]
  }
 ],
 "metadata": {
  "kernelspec": {
   "display_name": "Python 3 (ipykernel)",
   "language": "python",
   "name": "python3"
  },
  "language_info": {
   "codemirror_mode": {
    "name": "ipython",
    "version": 3
   },
   "file_extension": ".py",
   "mimetype": "text/x-python",
   "name": "python",
   "nbconvert_exporter": "python",
   "pygments_lexer": "ipython3",
   "version": "3.9.7"
  }
 },
 "nbformat": 4,
 "nbformat_minor": 5
}
