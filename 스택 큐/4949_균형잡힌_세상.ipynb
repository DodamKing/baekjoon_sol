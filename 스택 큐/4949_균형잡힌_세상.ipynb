{
 "cells": [
  {
   "cell_type": "code",
   "execution_count": 15,
   "id": "a83b3e3d",
   "metadata": {},
   "outputs": [
    {
     "name": "stdout",
     "output_type": "stream",
     "text": [
      "So when I die (the [first] I will see in (heaven) is a score list). [ first in ] ( first out ). Half Moon tonight (At least it is better than no Moon at all]. A rope may form )( a trail in a maze. Help( I[m being held prisoner in a fortune cookie factory)]. ([ (([( [ ] ) ( ) (( ))] )) ]).  . .\n",
      "yes\n",
      "yes\n",
      "no\n",
      "no\n",
      "no\n",
      "no\n",
      "no\n",
      "no\n",
      "no\n"
     ]
    }
   ],
   "source": [
    "import re\n",
    "\n",
    "words = input().split('.')\n",
    "# for i in range(len(words)):\n",
    "#     words[i] = re.sub('[a-zA-Z]', '', words[i]).strip()\n",
    "#     words[i] = words[i].replace(' ', '')\n",
    "    \n",
    "answer = True\n",
    "stack = []\n",
    "for word in words:\n",
    "    for i in word:\n",
    "        if i == '(' or i == '[':\n",
    "            stack.append(i)\n",
    "        elif i == ')':\n",
    "            if not stack or stack[-1] == '[':\n",
    "                answer = False\n",
    "                break\n",
    "            elif stack[-1] == '(':\n",
    "                stack.pop()\n",
    "        elif i == ']':\n",
    "            if not stack or stack[-1] == '(':\n",
    "                answer = False\n",
    "                break\n",
    "            elif stack[-1] == '[':\n",
    "                stack.pop()\n",
    "                \n",
    "    if answer:\n",
    "        print('yes')\n",
    "    else:\n",
    "        print('no')"
   ]
  },
  {
   "cell_type": "code",
   "execution_count": 29,
   "id": "befef0d1",
   "metadata": {
    "scrolled": true
   },
   "outputs": [
    {
     "name": "stdout",
     "output_type": "stream",
     "text": [
      "So when I die (the [first] I will see in (heaven) is a score list). [ first in ] ( first out ). Half Moon tonight (At least it is better than no Moon at all]. A rope may form )( a trail in a maze. Help( I[m being held prisoner in a fortune cookie factory)]. ([ (([( [ ] ) ( ) (( ))] )) ]).  . .\n",
      "yes\n",
      "yes\n",
      "no\n",
      "no\n",
      "no\n",
      "yes\n",
      "yes\n"
     ]
    }
   ],
   "source": [
    "import re\n",
    "\n",
    "words = input().split('.')\n",
    "for i in range(len(words)):\n",
    "    words[i] = re.sub('[a-zA-Z]', '', words[i]).strip()\n",
    "    words[i] = words[i].replace(' ', '')\n",
    "words.pop()\n",
    "words.pop()\n",
    "    \n",
    "answer = True\n",
    "for word in words:\n",
    "    stack = []\n",
    "    for i in word:\n",
    "        if i == '(' or i == '[':\n",
    "            stack.append(i)\n",
    "        elif i == ')':\n",
    "            if stack and stack[-1] == '(':\n",
    "                stack.pop()\n",
    "            else:\n",
    "                answer = False\n",
    "        elif i == ']':\n",
    "            if stack and stack[-1] == '[':\n",
    "                stack.pop()\n",
    "            else: answer = False\n",
    "                \n",
    "    if answer or not stack:\n",
    "        print('yes')\n",
    "    else:\n",
    "        print('no')"
   ]
  },
  {
   "cell_type": "code",
   "execution_count": null,
   "id": "d9b61f91",
   "metadata": {},
   "outputs": [],
   "source": [
    "So when I die (the [first] I will see in (heaven) is a score list).\n",
    "[ first in ] ( first out ).\n",
    "Half Moon tonight (At least it is better than no Moon at all].\n",
    "A rope may form )( a trail in a maze.\n",
    "Help( I[m being held prisoner in a fortune cookie factory)].\n",
    "([ (([( [ ] ) ( ) (( ))] )) ]).\n",
    " .\n",
    "."
   ]
  },
  {
   "cell_type": "code",
   "execution_count": 35,
   "id": "634cced6",
   "metadata": {},
   "outputs": [
    {
     "name": "stdout",
     "output_type": "stream",
     "text": [
      "A rope may form )( a trail in a maze.\n",
      "no\n",
      "Help( I[m being held prisoner in a fortune cookie factory)].\n",
      "no\n",
      "([ (([( [ ] ) ( ) (( ))] )) ]).\n",
      "yes\n",
      " .\n",
      "yes\n",
      ".\n"
     ]
    }
   ],
   "source": [
    "while True:\n",
    "    words = input()\n",
    "    if words == '.':\n",
    "        break\n",
    "        \n",
    "    answer = True\n",
    "    stack = []\n",
    "    for word in words:\n",
    "        if word == '(' or word == '[':\n",
    "            stack.append(word)\n",
    "        elif word == ')':\n",
    "            if not stack or stack[-1] == '[':\n",
    "                answer = False\n",
    "                break\n",
    "            elif stack[-1] == '(':\n",
    "                stack.pop()\n",
    "        elif word == ']':\n",
    "            if not stack or stack[-1] == '(':\n",
    "                answer = False\n",
    "                break\n",
    "            elif stack[-1] == '[':\n",
    "                stack.pop()\n",
    "\n",
    "    if answer and not stack:\n",
    "        print('yes')\n",
    "    else:\n",
    "        print('no')"
   ]
  }
 ],
 "metadata": {
  "kernelspec": {
   "display_name": "Python 3 (ipykernel)",
   "language": "python",
   "name": "python3"
  },
  "language_info": {
   "codemirror_mode": {
    "name": "ipython",
    "version": 3
   },
   "file_extension": ".py",
   "mimetype": "text/x-python",
   "name": "python",
   "nbconvert_exporter": "python",
   "pygments_lexer": "ipython3",
   "version": "3.9.7"
  }
 },
 "nbformat": 4,
 "nbformat_minor": 5
}
