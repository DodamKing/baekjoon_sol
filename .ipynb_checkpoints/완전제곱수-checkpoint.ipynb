{
 "cells": [
  {
   "cell_type": "code",
   "execution_count": 6,
   "id": "23558e6b",
   "metadata": {},
   "outputs": [
    {
     "name": "stdout",
     "output_type": "stream",
     "text": [
      "60\n",
      "100\n"
     ]
    }
   ],
   "source": [
    "M = int(input())\n",
    "N = int(input())\n",
    "Ts = []\n",
    "\n",
    "for i in range (M, N + 1) :\n",
    "    for j in range (2, M) :\n",
    "        if i // j == j :\n",
    "            Ts.append(i)"
   ]
  },
  {
   "cell_type": "code",
   "execution_count": null,
   "id": "4976d85e",
   "metadata": {},
   "outputs": [],
   "source": []
  }
 ],
 "metadata": {
  "kernelspec": {
   "display_name": "Python 3",
   "language": "python",
   "name": "python3"
  },
  "language_info": {
   "codemirror_mode": {
    "name": "ipython",
    "version": 3
   },
   "file_extension": ".py",
   "mimetype": "text/x-python",
   "name": "python",
   "nbconvert_exporter": "python",
   "pygments_lexer": "ipython3",
   "version": "3.8.8"
  }
 },
 "nbformat": 4,
 "nbformat_minor": 5
}
