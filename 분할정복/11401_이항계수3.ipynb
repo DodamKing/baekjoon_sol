{
 "cells": [
  {
   "cell_type": "code",
   "execution_count": null,
   "id": "5e27f19a",
   "metadata": {},
   "outputs": [
    {
     "name": "stdout",
     "output_type": "stream",
     "text": [
      "40000 20\n"
     ]
    }
   ],
   "source": [
    "def fac(n):\n",
    "    if n == 1:\n",
    "        return 1\n",
    "    else:\n",
    "        return n * fac(n-1) % 1000000007\n",
    "\n",
    "n, k = map(int, input().split())\n",
    "\n",
    "ans = fac(n) / (fac(n-k) * fac(k))\n",
    "print(int(ans))\n",
    "\n",
    "# 최대 재귀한도 깊이 에러"
   ]
  },
  {
   "cell_type": "code",
   "execution_count": 18,
   "id": "48987f97",
   "metadata": {},
   "outputs": [
    {
     "name": "stdout",
     "output_type": "stream",
     "text": [
      "40000 500\n",
      "1.6433746728926604\n"
     ]
    }
   ],
   "source": [
    "p = 1000000007\n",
    "n, k = map(int, input().split())\n",
    "dp = [1] * (n+1)\n",
    "for i in range(1, n+1):\n",
    "    dp[i] = dp[i-1] * i % p\n",
    "    \n",
    "ans = dp[n] / (dp[n-k] * dp[k] % p)\n",
    "print(ans % p)"
   ]
  },
  {
   "cell_type": "code",
   "execution_count": 16,
   "id": "64f5b74e",
   "metadata": {},
   "outputs": [
    {
     "name": "stdout",
     "output_type": "stream",
     "text": [
      "5 3\n"
     ]
    },
    {
     "data": {
      "text/plain": [
       "20.0"
      ]
     },
     "execution_count": 16,
     "metadata": {},
     "output_type": "execute_result"
    }
   ],
   "source": [
    "n, k = map(int, input().split())\n",
    "\n",
    "ans = n\n",
    "for _ in range(k-1):\n",
    "    ans = ans * (n-1)\n",
    "    n = n - 1\n",
    "    \n",
    "ans / k"
   ]
  }
 ],
 "metadata": {
  "kernelspec": {
   "display_name": "Python 3 (ipykernel)",
   "language": "python",
   "name": "python3"
  },
  "language_info": {
   "codemirror_mode": {
    "name": "ipython",
    "version": 3
   },
   "file_extension": ".py",
   "mimetype": "text/x-python",
   "name": "python",
   "nbconvert_exporter": "python",
   "pygments_lexer": "ipython3",
   "version": "3.9.7"
  }
 },
 "nbformat": 4,
 "nbformat_minor": 5
}
