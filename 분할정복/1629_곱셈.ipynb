{
 "cells": [
  {
   "cell_type": "code",
   "execution_count": 2,
   "id": "44da8add",
   "metadata": {},
   "outputs": [
    {
     "name": "stdout",
     "output_type": "stream",
     "text": [
      "10 11 12\n"
     ]
    },
    {
     "data": {
      "text/plain": [
       "4"
      ]
     },
     "execution_count": 2,
     "metadata": {},
     "output_type": "execute_result"
    }
   ],
   "source": [
    "a, b, c = map(int, (input().split()))\n",
    "ans = a ** b % c\n",
    "ans"
   ]
  },
  {
   "cell_type": "code",
   "execution_count": 4,
   "id": "53934ff3",
   "metadata": {},
   "outputs": [
    {
     "name": "stdout",
     "output_type": "stream",
     "text": [
      "10 11 12\n",
      "4\n"
     ]
    }
   ],
   "source": [
    "def sol(a, b, c):\n",
    "    if b == 1:\n",
    "        return a % c\n",
    "    elif b == 2:\n",
    "        return a ** 2 % c\n",
    "    else:\n",
    "        return sol(a**2, b//2, c) * a ** (b%2) % c\n",
    "        \n",
    "a, b, c = map(int, (input().split()))\n",
    "print(sol(a, b, c))"
   ]
  },
  {
   "cell_type": "code",
   "execution_count": 8,
   "id": "4399d4c6",
   "metadata": {},
   "outputs": [
    {
     "name": "stdout",
     "output_type": "stream",
     "text": [
      "10 11 12\n",
      "4\n"
     ]
    }
   ],
   "source": [
    "def sol(a, b):\n",
    "    if b == 1:\n",
    "        return a\n",
    "    else:\n",
    "        if b % 2 == 0:\n",
    "            return sol(a**2, b//2)\n",
    "        else:\n",
    "            return sol(a**2, b//2) * a\n",
    "        \n",
    "a, b, c = map(int, (input().split()))\n",
    "print(sol(a, b) % c)"
   ]
  },
  {
   "cell_type": "code",
   "execution_count": 2,
   "id": "d9a168aa",
   "metadata": {},
   "outputs": [
    {
     "name": "stdout",
     "output_type": "stream",
     "text": [
      "10 11 12\n",
      "4\n"
     ]
    }
   ],
   "source": [
    "def sol(a, b):\n",
    "    if b == 1:\n",
    "        return a\n",
    "    else:\n",
    "        if b % 2 == 0:\n",
    "            mul = sol(a, b//2)\n",
    "            return mul ** 2\n",
    "        else:\n",
    "            mul = sol(a, b//2)\n",
    "            return mul ** 2 * a\n",
    "        \n",
    "a, b, c = map(int, (input().split()))\n",
    "print(sol(a, b) % c) \n",
    "# 나누기를 한번만 하려고 했는데 너무 큰수가 오면 시간초과가 나오는듯\n",
    "# 매번 하는 게 더 오래 걸릴 줄 알았는데 오히려 하면서 수가 작아지니까 정답임"
   ]
  },
  {
   "cell_type": "code",
   "execution_count": null,
   "id": "69d3f8e8",
   "metadata": {},
   "outputs": [],
   "source": [
    "def sol(a, b):\n",
    "    if b == 1:\n",
    "        return a % c\n",
    "    else:\n",
    "        if b % 2 == 0:\n",
    "            mul = sol(a, b//2)\n",
    "            return mul ** 2 % c\n",
    "        else:\n",
    "            mul = sol(a, b//2)\n",
    "            return mul ** 2 * a % c\n",
    "        \n",
    "a, b, c = map(int, (input().split()))\n",
    "print(sol(a, b)) "
   ]
  }
 ],
 "metadata": {
  "kernelspec": {
   "display_name": "Python 3 (ipykernel)",
   "language": "python",
   "name": "python3"
  },
  "language_info": {
   "codemirror_mode": {
    "name": "ipython",
    "version": 3
   },
   "file_extension": ".py",
   "mimetype": "text/x-python",
   "name": "python",
   "nbconvert_exporter": "python",
   "pygments_lexer": "ipython3",
   "version": "3.9.7"
  }
 },
 "nbformat": 4,
 "nbformat_minor": 5
}
