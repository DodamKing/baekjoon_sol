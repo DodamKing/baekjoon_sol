{
 "cells": [
  {
   "cell_type": "code",
   "execution_count": 4,
   "id": "2efe4f6c",
   "metadata": {},
   "outputs": [
    {
     "name": "stdout",
     "output_type": "stream",
     "text": [
      "17\n"
     ]
    }
   ],
   "source": [
    "p = 1000000007\n",
    "n = int(input())\n",
    "dp = [0 for _ in range(n+1)]\n",
    "dp[1] = 1\n",
    "\n",
    "for i in range(2, n+1):\n",
    "    dp[i] = (dp[i-2] + dp[i-1]) % p"
   ]
  },
  {
   "cell_type": "code",
   "execution_count": 5,
   "id": "0474850f",
   "metadata": {},
   "outputs": [
    {
     "data": {
      "text/plain": [
       "1597"
      ]
     },
     "execution_count": 5,
     "metadata": {},
     "output_type": "execute_result"
    }
   ],
   "source": [
    "dp[n]"
   ]
  },
  {
   "cell_type": "markdown",
   "id": "3e048686",
   "metadata": {},
   "source": [
    "fn+2 = 1 1 fn+1\n",
    "\n",
    "fn+1   1 0 fn"
   ]
  },
  {
   "cell_type": "code",
   "execution_count": null,
   "id": "07de5c0a",
   "metadata": {},
   "outputs": [],
   "source": [
    "def matrix(n, k, m):\n",
    "    ans = res\n",
    "    for i in range(n):\n",
    "        for j in range(k):\n",
    "            for x in range(m):\n",
    "                ans[i][j] += a[i][x] * b[x][j]\n",
    "    return asn\n",
    "                \n",
    "def squ(a, b):\n",
    "    if b == 1:\n",
    "        return a % p\n",
    "    else:\n",
    "        if b % 2 == 0:\n",
    "            mul = sol(a, b//2)\n",
    "            return mul ** 2 % p\n",
    "        else:\n",
    "            mul = sol(a, b//2)\n",
    "            return mul ** 2 * a % p\n",
    "        \n",
    "res = base = [[1, 1], [1, 0]]\n",
    "\n",
    "matrix(2, 1, 2)\n",
    "# 못하겠다 ㅠㅠ"
   ]
  }
 ],
 "metadata": {
  "kernelspec": {
   "display_name": "Python 3 (ipykernel)",
   "language": "python",
   "name": "python3"
  },
  "language_info": {
   "codemirror_mode": {
    "name": "ipython",
    "version": 3
   },
   "file_extension": ".py",
   "mimetype": "text/x-python",
   "name": "python",
   "nbconvert_exporter": "python",
   "pygments_lexer": "ipython3",
   "version": "3.9.7"
  }
 },
 "nbformat": 4,
 "nbformat_minor": 5
}
