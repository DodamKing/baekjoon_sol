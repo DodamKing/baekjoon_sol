{
 "cells": [
  {
   "cell_type": "code",
   "execution_count": 48,
   "id": "131e85ad",
   "metadata": {},
   "outputs": [
    {
     "name": "stdout",
     "output_type": "stream",
     "text": [
      "3 2\n",
      "1 2\n",
      "3 4\n",
      "5 6\n",
      "2 3\n",
      "-1 -2 0\n",
      "0 0 3\n"
     ]
    }
   ],
   "source": [
    "n, m = map(int, input().split())\n",
    "a = [[int(i) for i in input().split()] for _ in range(n)]\n",
    "m, k = map(int, input().split())\n",
    "b = [[int(i) for i in input().split()] for _ in range(m)]"
   ]
  },
  {
   "cell_type": "code",
   "execution_count": 60,
   "id": "fdb188ba",
   "metadata": {},
   "outputs": [
    {
     "name": "stdout",
     "output_type": "stream",
     "text": [
      "-1 -2 6\n",
      "-3 -6 12\n",
      "-5 -10 18\n"
     ]
    }
   ],
   "source": [
    "# ans = [[0] * k] * n 왜 반복문으로 안하면 틀릴까\n",
    "# print(ans)\n",
    "ans = [[0 for _ in range(k)] for _ in range(n)]\n",
    "\n",
    "for i in range(n):\n",
    "    for j in range(k):\n",
    "        for x in range(m):\n",
    "            ans[i][j] += a[i][x] * b[x][j]\n",
    "\n",
    "for i in range(n):\n",
    "    print(*ans[i])"
   ]
  },
  {
   "cell_type": "code",
   "execution_count": 45,
   "id": "bc1ea997",
   "metadata": {},
   "outputs": [
    {
     "name": "stdout",
     "output_type": "stream",
     "text": [
      "[[ -1  -2   6]\n",
      " [ -3  -6  12]\n",
      " [ -5 -10  18]]\n"
     ]
    }
   ],
   "source": [
    "import numpy as np\n",
    "\n",
    "print(np.dot(a,b))"
   ]
  },
  {
   "cell_type": "code",
   "execution_count": null,
   "id": "e58f2f35",
   "metadata": {},
   "outputs": [],
   "source": []
  }
 ],
 "metadata": {
  "kernelspec": {
   "display_name": "Python 3 (ipykernel)",
   "language": "python",
   "name": "python3"
  },
  "language_info": {
   "codemirror_mode": {
    "name": "ipython",
    "version": 3
   },
   "file_extension": ".py",
   "mimetype": "text/x-python",
   "name": "python",
   "nbconvert_exporter": "python",
   "pygments_lexer": "ipython3",
   "version": "3.9.7"
  }
 },
 "nbformat": 4,
 "nbformat_minor": 5
}
