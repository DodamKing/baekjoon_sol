{
 "cells": [
  {
   "cell_type": "code",
   "execution_count": 3,
   "id": "92d17835",
   "metadata": {},
   "outputs": [
    {
     "name": "stdout",
     "output_type": "stream",
     "text": [
      "9\n",
      "0 0 0 1 1 1 -1 -1 -1\n",
      "0 0 0 1 1 1 -1 -1 -1\n",
      "0 0 0 1 1 1 -1 -1 -1\n",
      "1 1 1 0 0 0 0 0 0\n",
      "1 1 1 0 0 0 0 0 0\n",
      "1 1 1 0 0 0 0 0 0\n",
      "0 1 -1 0 1 -1 0 1 -1\n",
      "0 -1 1 0 1 -1 0 1 -1\n",
      "0 1 -1 1 0 -1 0 1 -1\n",
      "7\n",
      "21\n",
      "18\n"
     ]
    }
   ],
   "source": [
    "def sol(x, y, n):\n",
    "    for i in range(x, x+n):\n",
    "        for j in range(y, y+n):\n",
    "            if p[x][y] != p[i][j]:\n",
    "                sol(x, y, n//2)\n",
    "                sol(x + n//2, y, n//2)\n",
    "                sol(x, y + n//2, n//2)\n",
    "                sol(x + n//2, y + n//2, n//2)\n",
    "                return\n",
    "    res.append(p[x][y])\n",
    "    \n",
    "n = int(input())\n",
    "p = [[int(i) for i in input().split()] for _ in range(n)]\n",
    "res = []\n",
    "\n",
    "sol(0, 0, n)\n",
    "\n",
    "print(res.count(-1))\n",
    "print(res.count(0))\n",
    "print(res.count(1))"
   ]
  },
  {
   "cell_type": "code",
   "execution_count": 5,
   "id": "e1e263ad",
   "metadata": {},
   "outputs": [
    {
     "name": "stdout",
     "output_type": "stream",
     "text": [
      "[0, 0, 1, 0, 1, 0, 0, 1, 1, 0, 1, 1, 0, 1, 0, 0, 1, -1, 1, 1, 0, 0, -1, 1, 0, 0, 1, 1, 0, 1, 0, -1, -1, 0, -1, 0, 0, 1, 1, -1, -1, 0, 0, 0, 1, 1]\n"
     ]
    }
   ],
   "source": [
    "print(res)"
   ]
  }
 ],
 "metadata": {
  "kernelspec": {
   "display_name": "Python 3 (ipykernel)",
   "language": "python",
   "name": "python3"
  },
  "language_info": {
   "codemirror_mode": {
    "name": "ipython",
    "version": 3
   },
   "file_extension": ".py",
   "mimetype": "text/x-python",
   "name": "python",
   "nbconvert_exporter": "python",
   "pygments_lexer": "ipython3",
   "version": "3.9.7"
  }
 },
 "nbformat": 4,
 "nbformat_minor": 5
}
