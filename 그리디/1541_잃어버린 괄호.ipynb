{
 "cells": [
  {
   "cell_type": "markdown",
   "id": "30ff3801",
   "metadata": {},
   "source": [
    "잃어버린 괄호 실버2 \n",
    "\n",
    "식의 값을 가능한 한 작게 만드는 문제"
   ]
  },
  {
   "cell_type": "code",
   "execution_count": 10,
   "id": "c72887c2",
   "metadata": {},
   "outputs": [
    {
     "name": "stdout",
     "output_type": "stream",
     "text": [
      "55-50+40\n"
     ]
    },
    {
     "data": {
      "text/plain": [
       "[55, 50, 40]"
      ]
     },
     "execution_count": 10,
     "metadata": {},
     "output_type": "execute_result"
    }
   ],
   "source": [
    "import re\n",
    "\n",
    "exp = input()\n",
    "num = list(map(int, re.split('[+-]', exp)))\n",
    "num"
   ]
  },
  {
   "cell_type": "code",
   "execution_count": 25,
   "id": "1bf3e3b8",
   "metadata": {},
   "outputs": [
    {
     "name": "stdout",
     "output_type": "stream",
     "text": [
      "00009-00009\n"
     ]
    }
   ],
   "source": [
    "exp = input()\n",
    "arr = exp.split('-')\n",
    "for i in range(len(arr)):\n",
    "    arr[i] = list(map(int, arr[i].split('+')))"
   ]
  },
  {
   "cell_type": "code",
   "execution_count": 26,
   "id": "a8aaea42",
   "metadata": {},
   "outputs": [
    {
     "data": {
      "text/plain": [
       "0"
      ]
     },
     "execution_count": 26,
     "metadata": {},
     "output_type": "execute_result"
    }
   ],
   "source": [
    "for i in range(len(arr)):\n",
    "    arr[i] = sum(arr[i])\n",
    "\n",
    "ans = arr[0]\n",
    "for i in range(1, len(arr)):\n",
    "    ans -= arr[i]\n",
    "    \n",
    "ans"
   ]
  }
 ],
 "metadata": {
  "kernelspec": {
   "display_name": "Python 3 (ipykernel)",
   "language": "python",
   "name": "python3"
  },
  "language_info": {
   "codemirror_mode": {
    "name": "ipython",
    "version": 3
   },
   "file_extension": ".py",
   "mimetype": "text/x-python",
   "name": "python",
   "nbconvert_exporter": "python",
   "pygments_lexer": "ipython3",
   "version": "3.9.7"
  }
 },
 "nbformat": 4,
 "nbformat_minor": 5
}
