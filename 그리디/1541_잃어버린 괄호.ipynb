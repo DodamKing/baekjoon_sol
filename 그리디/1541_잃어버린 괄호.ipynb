{
 "cells": [
  {
   "cell_type": "markdown",
   "id": "30ff3801",
   "metadata": {},
   "source": [
    "잃어버린 괄호 실버2 \n",
    "\n",
    "식의 값을 가능한 한 작게 만드는 문제"
   ]
  },
  {
   "cell_type": "code",
   "execution_count": 10,
   "id": "c72887c2",
   "metadata": {},
   "outputs": [
    {
     "name": "stdout",
     "output_type": "stream",
     "text": [
      "55-50+40\n"
     ]
    },
    {
     "data": {
      "text/plain": [
       "[55, 50, 40]"
      ]
     },
     "execution_count": 10,
     "metadata": {},
     "output_type": "execute_result"
    }
   ],
   "source": [
    "import re\n",
    "\n",
    "exp = input()\n",
    "num = list(map(int, re.split('[+-]', exp)))\n",
    "num"
   ]
  },
  {
   "cell_type": "code",
   "execution_count": 16,
   "id": "1bf3e3b8",
   "metadata": {},
   "outputs": [],
   "source": [
    "arr1 = exp.split('-')\n",
    "for i in range(len(arr1)):\n",
    "    arr1[i] = eval(arr1[i])\n",
    "\n",
    "ans = arr1[0]\n",
    "for i in range(1, len(arr1)):\n",
    "    ans =- arr1[i] "
   ]
  },
  {
   "cell_type": "code",
   "execution_count": 17,
   "id": "a8aaea42",
   "metadata": {},
   "outputs": [
    {
     "data": {
      "text/plain": [
       "-90"
      ]
     },
     "execution_count": 17,
     "metadata": {},
     "output_type": "execute_result"
    }
   ],
   "source": [
    "ans"
   ]
  },
  {
   "cell_type": "code",
   "execution_count": 20,
   "id": "f58d3c87",
   "metadata": {},
   "outputs": [
    {
     "name": "stdout",
     "output_type": "stream",
     "text": [
      "55\n",
      "90\n"
     ]
    }
   ],
   "source": [
    "print(arr1[0])\n",
    "print(arr1[1])"
   ]
  }
 ],
 "metadata": {
  "kernelspec": {
   "display_name": "Python 3 (ipykernel)",
   "language": "python",
   "name": "python3"
  },
  "language_info": {
   "codemirror_mode": {
    "name": "ipython",
    "version": 3
   },
   "file_extension": ".py",
   "mimetype": "text/x-python",
   "name": "python",
   "nbconvert_exporter": "python",
   "pygments_lexer": "ipython3",
   "version": "3.9.7"
  }
 },
 "nbformat": 4,
 "nbformat_minor": 5
}
