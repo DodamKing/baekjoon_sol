{
 "cells": [
  {
   "cell_type": "markdown",
   "id": "e3c913fe",
   "metadata": {},
   "source": [
    "동전 0 실버3\n",
    "\n",
    "동전의 조건이 특별해서 동적 프로그래밍보다 빠르게 답을 찾을 수 있는 문제"
   ]
  },
  {
   "cell_type": "code",
   "execution_count": 10,
   "id": "10291010",
   "metadata": {},
   "outputs": [
    {
     "name": "stdout",
     "output_type": "stream",
     "text": [
      "10 4200\n",
      "1\n",
      "5\n",
      "10\n",
      "50\n",
      "100\n",
      "500\n",
      "1000\n",
      "5000\n",
      "10000\n",
      "50000\n"
     ]
    },
    {
     "data": {
      "text/plain": [
       "6"
      ]
     },
     "execution_count": 10,
     "metadata": {},
     "output_type": "execute_result"
    }
   ],
   "source": [
    "n, k = map(int, input().split())\n",
    "won = [0] * n\n",
    "cnt = 0 # 초기화 안해주니까 백준에서 에러 나더라\n",
    "\n",
    "for i in range(n):\n",
    "    won[i] = int(input())\n",
    "    \n",
    "won.reverse()\n",
    "for i in won:\n",
    "    cnt += k // i\n",
    "    k = k % i\n",
    "    \n",
    "print(cnt)"
   ]
  }
 ],
 "metadata": {
  "kernelspec": {
   "display_name": "Python 3 (ipykernel)",
   "language": "python",
   "name": "python3"
  },
  "language_info": {
   "codemirror_mode": {
    "name": "ipython",
    "version": 3
   },
   "file_extension": ".py",
   "mimetype": "text/x-python",
   "name": "python",
   "nbconvert_exporter": "python",
   "pygments_lexer": "ipython3",
   "version": "3.9.7"
  }
 },
 "nbformat": 4,
 "nbformat_minor": 5
}
