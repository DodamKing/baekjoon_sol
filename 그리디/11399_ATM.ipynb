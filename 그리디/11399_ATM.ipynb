{
 "cells": [
  {
   "cell_type": "markdown",
   "id": "f2876e7f",
   "metadata": {},
   "source": [
    "ATM 실버3 기다리는 시간의 합을 최소화하는 문제"
   ]
  },
  {
   "cell_type": "code",
   "execution_count": 5,
   "id": "078192ae",
   "metadata": {
    "scrolled": false
   },
   "outputs": [
    {
     "name": "stdout",
     "output_type": "stream",
     "text": [
      "5\n",
      "3 1 4 3 2\n"
     ]
    },
    {
     "data": {
      "text/plain": [
       "[3, 1, 4, 3, 2]"
      ]
     },
     "execution_count": 5,
     "metadata": {},
     "output_type": "execute_result"
    }
   ],
   "source": [
    "n = int(input())\n",
    "arr = [int(x) for x in input().split()]\n",
    "\n",
    "arr.sort()\n",
    "dp = [0] * n\n",
    "dp[0] = arr[0]\n",
    "for i in range(1, n):\n",
    "    dp[i] = dp[i-1] + arr[i] \n",
    "    \n",
    "print(sum(dp))"
   ]
  }
 ],
 "metadata": {
  "kernelspec": {
   "display_name": "Python 3 (ipykernel)",
   "language": "python",
   "name": "python3"
  },
  "language_info": {
   "codemirror_mode": {
    "name": "ipython",
    "version": 3
   },
   "file_extension": ".py",
   "mimetype": "text/x-python",
   "name": "python",
   "nbconvert_exporter": "python",
   "pygments_lexer": "ipython3",
   "version": "3.9.7"
  }
 },
 "nbformat": 4,
 "nbformat_minor": 5
}
