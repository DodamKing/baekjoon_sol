{
 "cells": [
  {
   "cell_type": "markdown",
   "id": "0a7eb6b7",
   "metadata": {},
   "source": [
    "주요소  실버4\n",
    "\n",
    "최소 비용으로 주유하여 일직선 도로를 달리는 문제"
   ]
  },
  {
   "cell_type": "code",
   "execution_count": 11,
   "id": "d3e205c9",
   "metadata": {},
   "outputs": [
    {
     "name": "stdout",
     "output_type": "stream",
     "text": [
      "4\n",
      "3 3 4\n",
      "1 1 1 1\n"
     ]
    }
   ],
   "source": [
    "n = int(input())\n",
    "l = list(map(int, input().split()))\n",
    "p = [int(x) for x in input().split()]"
   ]
  },
  {
   "cell_type": "code",
   "execution_count": 13,
   "id": "a5e660e3",
   "metadata": {},
   "outputs": [
    {
     "name": "stdout",
     "output_type": "stream",
     "text": [
      "10\n"
     ]
    }
   ],
   "source": [
    "dp = [0] * n\n",
    "low = p[0]\n",
    "dp[1] = low * l[0]\n",
    "\n",
    "for i in range(2, n):\n",
    "    if p[i-1] < low:\n",
    "        low = p[i-1]\n",
    "    dp[i] = dp[i-1] + low * l[i-1]\n",
    "    \n",
    "print(max(dp))"
   ]
  },
  {
   "cell_type": "markdown",
   "id": "95e0cbc7",
   "metadata": {},
   "source": [
    "굳이 dp가 아니어도 결과값을 누적해 주면 될 듯 하다\n",
    "\n",
    "이게 오 ㅐ그리디지..."
   ]
  }
 ],
 "metadata": {
  "kernelspec": {
   "display_name": "Python 3 (ipykernel)",
   "language": "python",
   "name": "python3"
  },
  "language_info": {
   "codemirror_mode": {
    "name": "ipython",
    "version": 3
   },
   "file_extension": ".py",
   "mimetype": "text/x-python",
   "name": "python",
   "nbconvert_exporter": "python",
   "pygments_lexer": "ipython3",
   "version": "3.9.7"
  }
 },
 "nbformat": 4,
 "nbformat_minor": 5
}
