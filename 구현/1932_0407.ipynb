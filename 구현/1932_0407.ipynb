{
 "cells": [
  {
   "cell_type": "markdown",
   "id": "d1633e33",
   "metadata": {},
   "source": [
    "정수 삼각형 실버1"
   ]
  },
  {
   "cell_type": "code",
   "execution_count": 2,
   "id": "1b1affc7",
   "metadata": {},
   "outputs": [
    {
     "name": "stdout",
     "output_type": "stream",
     "text": [
      "5\n",
      "7\n",
      "3 8\n",
      "8 1 0\n",
      "2 7 4 4\n",
      "4 5 2 6 5\n"
     ]
    },
    {
     "data": {
      "text/plain": [
       "28"
      ]
     },
     "execution_count": 2,
     "metadata": {},
     "output_type": "execute_result"
    }
   ],
   "source": [
    "n = int(input())\n",
    "arr = []\n",
    "arr.append([0])\n",
    "for _ in range(n):\n",
    "    arr.append([int(x) for x in input().split()])\n",
    "\n",
    "dp = [0] * (n + 1)\n",
    "dp[1] = arr[1][0]\n",
    "j = 0\n",
    "for i in range(2, n+1):\n",
    "    dp[i] = dp[i-1] + max(arr[i][j], arr[i][j+1])\n",
    "    if arr[i][j] < arr[i][j+1] :\n",
    "        j =+ 1\n",
    "    \n",
    "dp[n]"
   ]
  },
  {
   "cell_type": "markdown",
   "id": "bba64cba",
   "metadata": {},
   "source": [
    "더해서 최대값을 저장하지 말고 더한 값들을 저장해 보자!"
   ]
  },
  {
   "cell_type": "code",
   "execution_count": 20,
   "id": "2577ad0f",
   "metadata": {
    "scrolled": true
   },
   "outputs": [
    {
     "name": "stdout",
     "output_type": "stream",
     "text": [
      "5\n",
      "7\n",
      "3 8\n",
      "8 1 0\n",
      "2 7 4 4\n",
      "4 5 2 6 5\n",
      "30\n"
     ]
    }
   ],
   "source": [
    "n = int(input())\n",
    "arr = []\n",
    "for _ in range(n):\n",
    "    arr.append([int(x) for x in input().split()])\n",
    "\n",
    "k = 2\n",
    "for i in range(1, n):\n",
    "    for j in range(k):\n",
    "        if j == 0:\n",
    "            arr[i][j] = arr[i][j] + arr[i-1][j]\n",
    "        elif i == j:\n",
    "            arr[i][j] = arr[i][j] + arr[i-1][-1]\n",
    "        else:\n",
    "            arr[i][j] = arr[i][j] + max(arr[i-1][j-1], arr[i-1][j])\n",
    "    k += 1\n",
    "        \n",
    "print(max(arr[n-1]))"
   ]
  }
 ],
 "metadata": {
  "kernelspec": {
   "display_name": "Python 3 (ipykernel)",
   "language": "python",
   "name": "python3"
  },
  "language_info": {
   "codemirror_mode": {
    "name": "ipython",
    "version": 3
   },
   "file_extension": ".py",
   "mimetype": "text/x-python",
   "name": "python",
   "nbconvert_exporter": "python",
   "pygments_lexer": "ipython3",
   "version": "3.9.7"
  }
 },
 "nbformat": 4,
 "nbformat_minor": 5
}
