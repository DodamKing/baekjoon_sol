{
 "cells": [
  {
   "cell_type": "markdown",
   "id": "d1633e33",
   "metadata": {},
   "source": [
    "정수 삼각형 실버1"
   ]
  },
  {
   "cell_type": "code",
   "execution_count": 17,
   "id": "1b1affc7",
   "metadata": {},
   "outputs": [
    {
     "name": "stdout",
     "output_type": "stream",
     "text": [
      "5\n",
      "7\n",
      "3 8\n",
      "8 1 0\n",
      "2 7 4 4\n",
      "4 5 2 6 5\n"
     ]
    },
    {
     "data": {
      "text/plain": [
       "36"
      ]
     },
     "execution_count": 17,
     "metadata": {},
     "output_type": "execute_result"
    }
   ],
   "source": [
    "n = int(input())\n",
    "arr = []\n",
    "arr.append([0])\n",
    "for _ in range(n):\n",
    "    arr.append([int(x) for x in input().split()])\n",
    "\n",
    "dp = [0] * (n + 1)\n",
    "dp[1] = arr[1][0]\n",
    "dp[2] = dp[1] + max(arr[2])\n",
    "for i in range(2, n+1):\n",
    "    for j in range()\n",
    "    \n",
    "    \n",
    "dp[n]"
   ]
  },
  {
   "cell_type": "code",
   "execution_count": 18,
   "id": "2577ad0f",
   "metadata": {},
   "outputs": [
    {
     "data": {
      "text/plain": [
       "[0, 7, 15, 23, 30, 36]"
      ]
     },
     "execution_count": 18,
     "metadata": {},
     "output_type": "execute_result"
    }
   ],
   "source": [
    "dp"
   ]
  }
 ],
 "metadata": {
  "kernelspec": {
   "display_name": "Python 3 (ipykernel)",
   "language": "python",
   "name": "python3"
  },
  "language_info": {
   "codemirror_mode": {
    "name": "ipython",
    "version": 3
   },
   "file_extension": ".py",
   "mimetype": "text/x-python",
   "name": "python",
   "nbconvert_exporter": "python",
   "pygments_lexer": "ipython3",
   "version": "3.9.7"
  }
 },
 "nbformat": 4,
 "nbformat_minor": 5
}
