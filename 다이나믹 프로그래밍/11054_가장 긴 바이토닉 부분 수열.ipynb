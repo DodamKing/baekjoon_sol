{
 "cells": [
  {
   "cell_type": "markdown",
   "id": "c6461bd5",
   "metadata": {},
   "source": [
    "가장 긴 바이토닉 부분 수열 골드3"
   ]
  },
  {
   "cell_type": "code",
   "execution_count": 79,
   "id": "2e45a00d",
   "metadata": {
    "scrolled": true
   },
   "outputs": [
    {
     "name": "stdout",
     "output_type": "stream",
     "text": [
      "5\n",
      "1 1 1 3 2\n",
      "5\n"
     ]
    }
   ],
   "source": [
    "n = int(input())\n",
    "arr = [int(x) for x in input().split()]\n",
    "dp = [0] * n\n",
    "    \n",
    "for i in range(n):\n",
    "    temp = 1\n",
    "    max_ = arr[i]\n",
    "    for j in range(i):\n",
    "        max_ = max(arr[j], max_)\n",
    "    mid = arr.index(max_)\n",
    "\n",
    "    for j in range(mid):\n",
    "        if arr [j] < arr[mid]:\n",
    "            temp += 1\n",
    "    \n",
    "    for k in range(mid, i+1):\n",
    "        if arr[mid] > arr[k]:\n",
    "            temp += 1\n",
    "            \n",
    "    dp[i] = temp\n",
    "    \n",
    "print(max(dp))"
   ]
  },
  {
   "cell_type": "code",
   "execution_count": 94,
   "id": "1ca27a3d",
   "metadata": {},
   "outputs": [
    {
     "name": "stdout",
     "output_type": "stream",
     "text": [
      "10\n",
      "1 5 2 1 4 3 4 5 2 1\n",
      "5\n"
     ]
    }
   ],
   "source": [
    "n = int(input())\n",
    "arr = [int(x) for x in input().split()]\n",
    "dp = [0] * n\n",
    "dp_up = [1] * n\n",
    "dp_down = [1] * n\n",
    "\n",
    "for i in range(n):\n",
    "    for j in range(i):\n",
    "        if arr[j] < arr[i]:\n",
    "            dp_up[i] = max(dp_up[i], dp_up[j] + 1)\n",
    "\n",
    "for i in range(n):\n",
    "    for j in range(j):\n",
    "        if arr[j] > arr[i]:\n",
    "            dp_down[i] = max(dp_down[i], dp_down[j] + 1)\n",
    "\n",
    "for i in range(n):\n",
    "    dp[i] = dp_up[i] + dp_down[i] -1\n",
    "            \n",
    "print(max(dp))"
   ]
  },
  {
   "cell_type": "code",
   "execution_count": 95,
   "id": "c5db227e",
   "metadata": {},
   "outputs": [
    {
     "name": "stdout",
     "output_type": "stream",
     "text": [
      "[1, 2, 2, 1, 3, 3, 4, 5, 2, 1]\n",
      "[2, 1, 2, 3, 2, 2, 2, 1, 1, 1]\n",
      "[2, 2, 3, 3, 4, 4, 5, 5, 2, 1]\n"
     ]
    }
   ],
   "source": [
    "print(dp_up)\n",
    "print(dp_down)\n",
    "print(dp)"
   ]
  }
 ],
 "metadata": {
  "kernelspec": {
   "display_name": "Python 3 (ipykernel)",
   "language": "python",
   "name": "python3"
  },
  "language_info": {
   "codemirror_mode": {
    "name": "ipython",
    "version": 3
   },
   "file_extension": ".py",
   "mimetype": "text/x-python",
   "name": "python",
   "nbconvert_exporter": "python",
   "pygments_lexer": "ipython3",
   "version": "3.9.7"
  }
 },
 "nbformat": 4,
 "nbformat_minor": 5
}
