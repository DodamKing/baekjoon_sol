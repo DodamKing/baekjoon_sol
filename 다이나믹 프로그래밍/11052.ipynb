{
 "cells": [
  {
   "cell_type": "code",
   "execution_count": 57,
   "id": "9d064ff7",
   "metadata": {
    "scrolled": true
   },
   "outputs": [
    {
     "name": "stdout",
     "output_type": "stream",
     "text": [
      "4\n",
      "3 5 15 16\n"
     ]
    }
   ],
   "source": [
    "N = int(input())\n",
    "P = list(map(int, input().split()))\n",
    "res = []"
   ]
  },
  {
   "cell_type": "code",
   "execution_count": 58,
   "id": "8099f7ce",
   "metadata": {},
   "outputs": [],
   "source": [
    "for i in range (N):\n",
    "    if N % (i + 1) == 0:\n",
    "        res.append(N / (i + 1) * P[i])"
   ]
  },
  {
   "cell_type": "code",
   "execution_count": 59,
   "id": "a691a05d",
   "metadata": {
    "scrolled": true
   },
   "outputs": [
    {
     "data": {
      "text/plain": [
       "16"
      ]
     },
     "execution_count": 59,
     "metadata": {},
     "output_type": "execute_result"
    }
   ],
   "source": [
    "int(max(res))"
   ]
  },
  {
   "cell_type": "code",
   "execution_count": null,
   "id": "c4fabc55",
   "metadata": {},
   "outputs": [],
   "source": []
  }
 ],
 "metadata": {
  "kernelspec": {
   "display_name": "Python 3",
   "language": "python",
   "name": "python3"
  },
  "language_info": {
   "codemirror_mode": {
    "name": "ipython",
    "version": 3
   },
   "file_extension": ".py",
   "mimetype": "text/x-python",
   "name": "python",
   "nbconvert_exporter": "python",
   "pygments_lexer": "ipython3",
   "version": "3.8.8"
  }
 },
 "nbformat": 4,
 "nbformat_minor": 5
}
