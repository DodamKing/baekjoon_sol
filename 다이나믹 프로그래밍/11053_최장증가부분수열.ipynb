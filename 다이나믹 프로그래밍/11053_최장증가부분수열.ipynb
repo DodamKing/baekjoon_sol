{
 "cells": [
  {
   "cell_type": "markdown",
   "id": "358dd0f9",
   "metadata": {},
   "source": [
    "가장 긴 증가하는 부분 수열 실버2"
   ]
  },
  {
   "cell_type": "code",
   "execution_count": 30,
   "id": "926f6256",
   "metadata": {},
   "outputs": [
    {
     "name": "stdout",
     "output_type": "stream",
     "text": [
      "4\n",
      "1 2 5 1\n",
      "3\n"
     ]
    }
   ],
   "source": [
    "n = int(input())\n",
    "arr = [int(x) for x in input().split()]\n",
    "dp = [1] * n\n",
    "\n",
    "for i in range(1, n):\n",
    "    for j in range(i):\n",
    "        if arr[j] < arr[i]:\n",
    "            dp[i] = max(dp[i], dp[j] + 1)\n",
    "\n",
    "print(max(dp))"
   ]
  },
  {
   "cell_type": "code",
   "execution_count": 31,
   "id": "6792638f",
   "metadata": {},
   "outputs": [
    {
     "data": {
      "text/plain": [
       "[1, 2, 3, 1]"
      ]
     },
     "execution_count": 31,
     "metadata": {},
     "output_type": "execute_result"
    }
   ],
   "source": [
    "dp"
   ]
  }
 ],
 "metadata": {
  "kernelspec": {
   "display_name": "Python 3 (ipykernel)",
   "language": "python",
   "name": "python3"
  },
  "language_info": {
   "codemirror_mode": {
    "name": "ipython",
    "version": 3
   },
   "file_extension": ".py",
   "mimetype": "text/x-python",
   "name": "python",
   "nbconvert_exporter": "python",
   "pygments_lexer": "ipython3",
   "version": "3.9.7"
  }
 },
 "nbformat": 4,
 "nbformat_minor": 5
}
