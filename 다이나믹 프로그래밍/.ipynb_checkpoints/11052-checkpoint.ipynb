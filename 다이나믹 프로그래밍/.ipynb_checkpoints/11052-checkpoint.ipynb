{
 "cells": [
  {
   "cell_type": "code",
   "execution_count": 57,
   "id": "a7131d6c",
   "metadata": {
    "scrolled": true
   },
   "outputs": [
    {
     "name": "stdout",
     "output_type": "stream",
     "text": [
      "4\n",
      "3 5 15 16\n"
     ]
    }
   ],
   "source": [
    "N = int(input())\n",
    "P = list(map(int, input().split()))\n",
    "res = []"
   ]
  },
  {
   "cell_type": "code",
   "execution_count": 60,
   "id": "4403cbff",
   "metadata": {},
   "outputs": [],
   "source": [
    "for i in range (N):\n",
    "    if N % (i + 1) == 0:\n",
    "        res.append(N / (i + 1) * P[i])\n",
    "    else:\n",
    "        res.append((i + 1) * P[i] + (N - i - 1) * P[N - i])\n"
   ]
  },
  {
   "cell_type": "code",
   "execution_count": 61,
   "id": "c45f8271",
   "metadata": {
    "scrolled": true
   },
   "outputs": [
    {
     "data": {
      "text/plain": [
       "60"
      ]
     },
     "execution_count": 61,
     "metadata": {},
     "output_type": "execute_result"
    }
   ],
   "source": [
    "int(max(res))"
   ]
  },
  {
   "cell_type": "code",
   "execution_count": 72,
   "id": "708c7bdd",
   "metadata": {},
   "outputs": [
    {
     "name": "stdout",
     "output_type": "stream",
     "text": [
      "4\n",
      "3 5 15 16\n"
     ]
    }
   ],
   "source": [
    "N = int(input())\n",
    "p = [0] + list(map(int, input().split()))\n",
    "dp = [0] * (N + 1)\n",
    "\n",
    "for i in range (1, N+1):\n",
    "    for j in range (1, i+1):\n",
    "        dp[i] = max(dp[i], dp[i-j] + p[j])"
   ]
  },
  {
   "cell_type": "code",
   "execution_count": 73,
   "id": "aa9e3ec6",
   "metadata": {},
   "outputs": [
    {
     "data": {
      "text/plain": [
       "18"
      ]
     },
     "execution_count": 73,
     "metadata": {},
     "output_type": "execute_result"
    }
   ],
   "source": [
    "dp[N]"
   ]
  }
 ],
 "metadata": {
  "kernelspec": {
   "display_name": "Python 3",
   "language": "python",
   "name": "python3"
  },
  "language_info": {
   "codemirror_mode": {
    "name": "ipython",
    "version": 3
   },
   "file_extension": ".py",
   "mimetype": "text/x-python",
   "name": "python",
   "nbconvert_exporter": "python",
   "pygments_lexer": "ipython3",
   "version": "3.8.8"
  }
 },
 "nbformat": 4,
 "nbformat_minor": 5
}
