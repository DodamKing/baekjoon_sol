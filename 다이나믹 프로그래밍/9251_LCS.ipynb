{
 "cells": [
  {
   "cell_type": "markdown",
   "id": "af47fa1b",
   "metadata": {},
   "source": [
    "LCS 골드5\n",
    "\n",
    "Longest Common Subsequence 를 구하는 문제"
   ]
  },
  {
   "cell_type": "code",
   "execution_count": 5,
   "id": "8876fb27",
   "metadata": {},
   "outputs": [
    {
     "name": "stdout",
     "output_type": "stream",
     "text": [
      "ACAYKP\n",
      "CAPCAK\n",
      "4\n"
     ]
    }
   ],
   "source": [
    "str1, str2 = input(), input()\n",
    "n1, n2 = len(str1), len(str2)\n",
    "dp = [ [0] * (n1+1) for _ in range(n2+1) ]\n",
    "\n",
    "for i in range(1, n2+1):\n",
    "    for j in range(1, n1+1):\n",
    "        if str1[i-1] == str2[j-1]:\n",
    "            dp[i][j] = dp[i-1][j-1] + 1\n",
    "        else:\n",
    "            dp[i][j] = max(dp[i][j-1], dp[i-1][j])\n",
    "            \n",
    "print(dp[-1][-1])\n",
    "\n",
    "# 인덱스에러가 난다 ㅠㅠ"
   ]
  },
  {
   "cell_type": "code",
   "execution_count": 6,
   "id": "165aeec9",
   "metadata": {},
   "outputs": [
    {
     "name": "stdout",
     "output_type": "stream",
     "text": [
      "ACAYKP\n",
      "CAPCAK\n",
      "4\n"
     ]
    }
   ],
   "source": [
    "str1, str2 = input(), input()\n",
    "n1, n2 = len(str1), len(str2)\n",
    "dp = [0] * n2\n",
    "\n",
    "for i in range(n1):\n",
    "    cnt = 0\n",
    "    for j in range(n2):\n",
    "        if cnt < dp[j]:\n",
    "            cnt = dp[j]\n",
    "        elif str1[i] == str2[j]:\n",
    "            dp[j] = cnt + 1\n",
    "            \n",
    "print(max(dp))\n",
    "\n",
    "# 이건 코드를 봐도 이해가 안간다 ㅠㅠ"
   ]
  }
 ],
 "metadata": {
  "kernelspec": {
   "display_name": "Python 3 (ipykernel)",
   "language": "python",
   "name": "python3"
  },
  "language_info": {
   "codemirror_mode": {
    "name": "ipython",
    "version": 3
   },
   "file_extension": ".py",
   "mimetype": "text/x-python",
   "name": "python",
   "nbconvert_exporter": "python",
   "pygments_lexer": "ipython3",
   "version": "3.9.7"
  }
 },
 "nbformat": 4,
 "nbformat_minor": 5
}
